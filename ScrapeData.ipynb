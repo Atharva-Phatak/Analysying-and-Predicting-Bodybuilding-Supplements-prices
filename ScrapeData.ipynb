{
  "nbformat": 4,
  "nbformat_minor": 0,
  "metadata": {
    "colab": {
      "name": "ScrapeData.ipynb",
      "provenance": [],
      "collapsed_sections": []
    },
    "kernelspec": {
      "name": "python3",
      "display_name": "Python 3"
    }
  },
  "cells": [
    {
      "cell_type": "code",
      "metadata": {
        "id": "_flCWKIFIN4u",
        "colab_type": "code",
        "colab": {}
      },
      "source": [
        "import math\n",
        "import os\n",
        "import pandas as pd\n",
        "import re\n",
        "import urllib\n",
        "import bs4\n",
        "import math\n",
        "import time"
      ],
      "execution_count": 0,
      "outputs": []
    },
    {
      "cell_type": "code",
      "metadata": {
        "id": "9Pijjk6cIdH3",
        "colab_type": "code",
        "colab": {}
      },
      "source": [
        "class DataScraper:\n",
        "\n",
        "    def __init__(self, product_type):\n",
        "    \n",
        "        self.product_type = product_type\n",
        "        \n",
        "\n",
        "    def GetPageCount(self):\n",
        "\n",
        "        url = 'https://in.bodybuilding.com/store/'+self.product_type+'.html?filter=product_form:Powder&page=1&includePrevPageItems=false'\n",
        "        req = urllib.request.Request(url , headers = {'User-Agent' : 'Chrome/41.0.2228.0'})\n",
        "        src = urllib.request.urlopen(req)\n",
        "        sp = bs4.BeautifulSoup(src)\n",
        "        \n",
        "        tot_items = str(sp.find('div' , {'class' : \"results\"}).get_text(strip = True)).split(' ')[0]\n",
        "        print(f\"The total item of {self.product_type} catgeory is {tot_items}\")\n",
        "        \n",
        "        return math.ceil((int(tot_items)/20))\n",
        "\n",
        "    def get_links(self):\n",
        "        \n",
        "        total_pages = self.GetPageCount()\n",
        "\n",
        "        links = []\n",
        "        for pg in range(total_pages):\n",
        "\n",
        "            url = 'https://in.bodybuilding.com/store/' + self.product_type +'.html?filter=product_form:Powder&page='+ str(pg) + '&includePrevPageItems=false'\n",
        "            req = urllib.request.Request(url , headers = {'User-Agent' : 'Chrome/41.0.2228.0'})\n",
        "            src = urllib.request.urlopen(req)\n",
        "            soup = bs4.BeautifulSoup(src , 'lxml')\n",
        "\n",
        "            for tag in soup.find_all('a' , {'class' : \"product__mobile-click-target\"}):\n",
        "                links.append(tag['href'])\n",
        "        print(len(links))\n",
        "\n",
        "        return links\n",
        "\n",
        "    def CollectData(self):\n",
        "        \n",
        "        data ={}\n",
        "        links = self.get_links()\n",
        "        df = pd.DataFrame(columns = ['Product' , 'Brand' ,'Price','Rating' ,'Review_Count' ,'Flavor_Rating', 'Flavor','Size', 'Servings',  \n",
        "                                     'Scoop_Size' , 'Available_Sizes' , 'Available_Flavors'])\n",
        "        for link in links:\n",
        "            req = urllib.request.Request(link , headers = {'User-Agent' : 'Chrome/41.0.2228.0'})\n",
        "            src = urllib.request.urlopen(req)\n",
        "            soup = bs4.BeautifulSoup(src , 'lxml')\n",
        "            #time.sleep(5)\n",
        "\n",
        "            try:\n",
        "                product = soup.find('h1' , {'class' : \"Product__name\"}).get_text(strip = True)\n",
        "            except:\n",
        "                product = None\n",
        "            \n",
        "            try:\n",
        "                brand = soup.find('a' , {'class' : \"Product__brand\"}).get_text(strip = True)\n",
        "            except:\n",
        "                brand = None\n",
        "\n",
        "            try:\n",
        "                price = float(soup.find('span' , {'class' : \"sku-chooser__sale-price\"}).get_text(strip = True).strip('$'))\n",
        "            except:\n",
        "                price = None\n",
        "\n",
        "            try:\n",
        "                rating = float(soup.find('span' ,{'class' : \"RatingBadge-sm\"}).get_text(strip = True))\n",
        "            except:\n",
        "                rating = None\n",
        "            #time.sleep(2)\n",
        "            try:\n",
        "                review_count = soup.find('a' ,{'class' : \"RatingBadge__read-more\"})\n",
        "                review_count = int(review_count.text.strip().split(' ')[0].strip('(').replace(',',''))\n",
        "                #print(review_x)\n",
        "            except:\n",
        "                #print(\"Entering Except\")\n",
        "                review_count = None\n",
        "            \n",
        "            \n",
        "            try:\n",
        "                flavor_rating = float( soup.find('div' , {'class' : 'sku-chooser__flavor-rating'}).find('strong').get_text(strip = True))\n",
        "            except:\n",
        "                flavor_rating = None\n",
        "\n",
        "            try:\n",
        "                vals = soup.find_all('div' , {'class' : \"sku-chooser__label-super\"})\n",
        "                elements = []\n",
        "                for ele in vals:\n",
        "                    if len(ele.text.strip()) != 0:\n",
        "                        elements.append(ele.text.strip())\n",
        "                \n",
        "                ava_size = int(elements[0].split(' ')[0])\n",
        "                #print(ava_size)\n",
        "                ava_flavors = int(elements[1].split(' ')[0])\n",
        "                #print(ava_flavors)\n",
        "            except:\n",
        "                ava_size , ava_flavors = None, None\n",
        "\n",
        "            try:\n",
        "                vals = soup.find_all('div' , {'class' : \"sku-chooser__label-value\"})\n",
        "                elements = []\n",
        "                for ele in vals:\n",
        "                    if ele.text.strip().find('vm') == -1:\n",
        "                        elements.append(ele.text.strip())\n",
        "                        \n",
        "                size = elements[0]\n",
        "                flavor = elements[1]\n",
        "            except:\n",
        "                size , flavor = None , None\n",
        "\n",
        "            try:\n",
        "                vals = soup.find_all('td' , {'class' : \"seq_span label_serving\"})\n",
        "                for ele in vals:\n",
        "                    if  ele.text.find('Scoop') != -1 or ele.text.find('scoop') != -1:\n",
        "                        scoop_size = ele.text.strip()\n",
        "                        #print(scoop_size)\n",
        "                    elif ele.text.find('Container') != -1:\n",
        "                        servings = ele.text.strip()\n",
        "                        #print(servings)\n",
        "            except:\n",
        "                scoop_size , servings = None , None\n",
        "\n",
        "            df = df.append({'Product' : product,\n",
        "                            'Brand' : brand,\n",
        "                            'Price' : price,\n",
        "                            'Rating' : rating , \n",
        "                            'Review_Count' : review_count ,\n",
        "                            'Flavor_Rating' : flavor_rating , \n",
        "                            'Flavor' : flavor,\n",
        "                            'Size' : size , \n",
        "                            'Servings' : servings , \n",
        "                            'Scoop_Size' : scoop_size , \n",
        "                            'Available_Sizes' : ava_size,\n",
        "                            'Available_Flavors' : ava_flavors} , ignore_index = True)\n",
        "        return df"
      ],
      "execution_count": 0,
      "outputs": []
    },
    {
      "cell_type": "code",
      "metadata": {
        "id": "v8iiypslLVs4",
        "colab_type": "code",
        "outputId": "4fb3dad5-b96e-45cf-d6db-fbd01656a58f",
        "colab": {
          "base_uri": "https://localhost:8080/",
          "height": 52
        }
      },
      "source": [
        "x = DataScraper('improve-workouts')\n",
        "df = x.CollectData()"
      ],
      "execution_count": 14,
      "outputs": [
        {
          "output_type": "stream",
          "text": [
            "The total item of improve-workouts catgeory is 269\n",
            "269\n"
          ],
          "name": "stdout"
        }
      ]
    },
    {
      "cell_type": "code",
      "metadata": {
        "id": "1THUWezHLfYl",
        "colab_type": "code",
        "outputId": "d66907e9-54d5-435f-dec9-60dea3945bfc",
        "colab": {
          "base_uri": "https://localhost:8080/",
          "height": 517
        }
      },
      "source": [
        "df.head()"
      ],
      "execution_count": 15,
      "outputs": [
        {
          "output_type": "execute_result",
          "data": {
            "text/html": [
              "<div>\n",
              "<style scoped>\n",
              "    .dataframe tbody tr th:only-of-type {\n",
              "        vertical-align: middle;\n",
              "    }\n",
              "\n",
              "    .dataframe tbody tr th {\n",
              "        vertical-align: top;\n",
              "    }\n",
              "\n",
              "    .dataframe thead th {\n",
              "        text-align: right;\n",
              "    }\n",
              "</style>\n",
              "<table border=\"1\" class=\"dataframe\">\n",
              "  <thead>\n",
              "    <tr style=\"text-align: right;\">\n",
              "      <th></th>\n",
              "      <th>Product</th>\n",
              "      <th>Brand</th>\n",
              "      <th>Price</th>\n",
              "      <th>Rating</th>\n",
              "      <th>Review_Count</th>\n",
              "      <th>Flavor_Rating</th>\n",
              "      <th>Flavor</th>\n",
              "      <th>Size</th>\n",
              "      <th>Servings</th>\n",
              "      <th>Scoop_Size</th>\n",
              "      <th>Available_Sizes</th>\n",
              "      <th>Available_Flavors</th>\n",
              "    </tr>\n",
              "  </thead>\n",
              "  <tbody>\n",
              "    <tr>\n",
              "      <th>0</th>\n",
              "      <td>Pre JYM Pre Workout Powder</td>\n",
              "      <td>JYM Supplement Science</td>\n",
              "      <td>38.99</td>\n",
              "      <td>9.1</td>\n",
              "      <td>4109</td>\n",
              "      <td>9</td>\n",
              "      <td>Grape Candy</td>\n",
              "      <td>30 Servings</td>\n",
              "      <td>Servings Per Container: About 30</td>\n",
              "      <td>Serving Size: 1 Scoop (25g)</td>\n",
              "      <td>2</td>\n",
              "      <td>11</td>\n",
              "    </tr>\n",
              "    <tr>\n",
              "      <th>1</th>\n",
              "      <td>Post JYM Recovery and Active BCAAs Powder</td>\n",
              "      <td>JYM Supplement Science</td>\n",
              "      <td>32.99</td>\n",
              "      <td>9.5</td>\n",
              "      <td>1410</td>\n",
              "      <td>9.5</td>\n",
              "      <td>Watermelon</td>\n",
              "      <td>30 Servings</td>\n",
              "      <td>Servings Per Container: About30</td>\n",
              "      <td>Serving Size: 1 Scoop (21g)</td>\n",
              "      <td>1</td>\n",
              "      <td>7</td>\n",
              "    </tr>\n",
              "    <tr>\n",
              "      <th>2</th>\n",
              "      <td>Essential AmiN.O. Energy</td>\n",
              "      <td>Optimum Nutrition</td>\n",
              "      <td>16.49</td>\n",
              "      <td>9.1</td>\n",
              "      <td>2499</td>\n",
              "      <td>9.4</td>\n",
              "      <td>Juicy Strawberry Burst</td>\n",
              "      <td>30 Servings</td>\n",
              "      <td>Servings Per Container30</td>\n",
              "      <td>Serving Size 2 Scoops (9 g)</td>\n",
              "      <td>4</td>\n",
              "      <td>14</td>\n",
              "    </tr>\n",
              "    <tr>\n",
              "      <th>3</th>\n",
              "      <td>BCAA Energy Amino Acids</td>\n",
              "      <td>Evlution Nutrition</td>\n",
              "      <td>21.99</td>\n",
              "      <td>9.4</td>\n",
              "      <td>2861</td>\n",
              "      <td>9.7</td>\n",
              "      <td>Pink Starblast</td>\n",
              "      <td>30 Servings</td>\n",
              "      <td>Servings Per Container30</td>\n",
              "      <td>Serving Size 2 Scoops (9g)</td>\n",
              "      <td>2</td>\n",
              "      <td>11</td>\n",
              "    </tr>\n",
              "    <tr>\n",
              "      <th>4</th>\n",
              "      <td>ENGN Shred Pre Workout</td>\n",
              "      <td>Evlution Nutrition</td>\n",
              "      <td>36.99</td>\n",
              "      <td>9.3</td>\n",
              "      <td>1537</td>\n",
              "      <td>9.4</td>\n",
              "      <td>Pink Lemonade</td>\n",
              "      <td>30 Servings</td>\n",
              "      <td>Servings Per Container30</td>\n",
              "      <td>Serving Size 1 Scoop (7.1g)</td>\n",
              "      <td>1</td>\n",
              "      <td>5</td>\n",
              "    </tr>\n",
              "  </tbody>\n",
              "</table>\n",
              "</div>"
            ],
            "text/plain": [
              "                                     Product  ... Available_Flavors\n",
              "0                 Pre JYM Pre Workout Powder  ...                11\n",
              "1  Post JYM Recovery and Active BCAAs Powder  ...                 7\n",
              "2                   Essential AmiN.O. Energy  ...                14\n",
              "3                    BCAA Energy Amino Acids  ...                11\n",
              "4                     ENGN Shred Pre Workout  ...                 5\n",
              "\n",
              "[5 rows x 12 columns]"
            ]
          },
          "metadata": {
            "tags": []
          },
          "execution_count": 15
        }
      ]
    },
    {
      "cell_type": "code",
      "metadata": {
        "id": "f5i-mKSlLzsr",
        "colab_type": "code",
        "outputId": "e8056c17-e968-41b3-896e-8e7f1d4e39e2",
        "colab": {
          "base_uri": "https://localhost:8080/",
          "height": 34
        }
      },
      "source": [
        "df.shape"
      ],
      "execution_count": 16,
      "outputs": [
        {
          "output_type": "execute_result",
          "data": {
            "text/plain": [
              "(269, 12)"
            ]
          },
          "metadata": {
            "tags": []
          },
          "execution_count": 16
        }
      ]
    },
    {
      "cell_type": "code",
      "metadata": {
        "id": "Rrh60UHWaWM8",
        "colab_type": "code",
        "colab": {}
      },
      "source": [
        "df.to_csv('Improve_workouts.csv', index = False)"
      ],
      "execution_count": 0,
      "outputs": []
    },
    {
      "cell_type": "code",
      "metadata": {
        "id": "yvcfDytWQZOm",
        "colab_type": "code",
        "colab": {}
      },
      "source": [
        ""
      ],
      "execution_count": 0,
      "outputs": []
    }
  ]
}