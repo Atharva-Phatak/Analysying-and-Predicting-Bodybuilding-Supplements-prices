{
  "nbformat": 4,
  "nbformat_minor": 0,
  "metadata": {
    "colab": {
      "name": "EDA+Model.ipynb",
      "provenance": [],
      "collapsed_sections": []
    },
    "kernelspec": {
      "name": "python3",
      "display_name": "Python 3"
    },
    "widgets": {
      "application/vnd.jupyter.widget-state+json": {
        "23331ff47aac436b96859ec3b04c9ce0": {
          "model_module": "@jupyter-widgets/controls",
          "model_name": "VBoxModel",
          "state": {
            "_view_name": "VBoxView",
            "_dom_classes": [
              "widget-interact"
            ],
            "_model_name": "VBoxModel",
            "_view_module": "@jupyter-widgets/controls",
            "_model_module_version": "1.5.0",
            "_view_count": null,
            "_view_module_version": "1.5.0",
            "box_style": "",
            "layout": "IPY_MODEL_3aed4e5eccef4172913aa6325529962c",
            "_model_module": "@jupyter-widgets/controls",
            "children": [
              "IPY_MODEL_5baf6f59c64841da89e26f9da7e7e11a",
              "IPY_MODEL_77d8689e0ce04545a9b534902e25681e"
            ]
          }
        },
        "3aed4e5eccef4172913aa6325529962c": {
          "model_module": "@jupyter-widgets/base",
          "model_name": "LayoutModel",
          "state": {
            "_view_name": "LayoutView",
            "grid_template_rows": null,
            "right": null,
            "justify_content": null,
            "_view_module": "@jupyter-widgets/base",
            "overflow": null,
            "_model_module_version": "1.2.0",
            "_view_count": null,
            "flex_flow": null,
            "width": null,
            "min_width": null,
            "border": null,
            "align_items": null,
            "bottom": null,
            "_model_module": "@jupyter-widgets/base",
            "top": null,
            "grid_column": null,
            "overflow_y": null,
            "overflow_x": null,
            "grid_auto_flow": null,
            "grid_area": null,
            "grid_template_columns": null,
            "flex": null,
            "_model_name": "LayoutModel",
            "justify_items": null,
            "grid_row": null,
            "max_height": null,
            "align_content": null,
            "visibility": null,
            "align_self": null,
            "height": null,
            "min_height": null,
            "padding": null,
            "grid_auto_rows": null,
            "grid_gap": null,
            "max_width": null,
            "order": null,
            "_view_module_version": "1.2.0",
            "grid_template_areas": null,
            "object_position": null,
            "object_fit": null,
            "grid_auto_columns": null,
            "margin": null,
            "display": null,
            "left": null
          }
        },
        "5baf6f59c64841da89e26f9da7e7e11a": {
          "model_module": "@jupyter-widgets/controls",
          "model_name": "DropdownModel",
          "state": {
            "_options_labels": [
              "Price",
              "Rating",
              "Review_Count",
              "Flavor_Rating",
              "Size",
              "Servings",
              "Scoop_Size",
              "Available_Sizes",
              "Available_Flavors"
            ],
            "_view_name": "DropdownView",
            "style": "IPY_MODEL_41f2cba23f834910b7f357b18b60fc80",
            "_dom_classes": [],
            "description": "column",
            "_model_name": "DropdownModel",
            "index": 0,
            "_view_module": "@jupyter-widgets/controls",
            "_model_module_version": "1.5.0",
            "_view_count": null,
            "disabled": false,
            "_view_module_version": "1.5.0",
            "description_tooltip": null,
            "_model_module": "@jupyter-widgets/controls",
            "layout": "IPY_MODEL_dee4c033cef645af920c823468d8f213"
          }
        },
        "77d8689e0ce04545a9b534902e25681e": {
          "model_module": "@jupyter-widgets/output",
          "model_name": "OutputModel",
          "state": {
            "_view_name": "OutputView",
            "msg_id": "",
            "_dom_classes": [],
            "_model_name": "OutputModel",
            "outputs": [
              {
                "output_type": "display_data",
                "metadata": {
                  "tags": [],
                  "needs_background": "light"
                },
                "image/png": "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\n",
                "text/plain": "<Figure size 432x432 with 1 Axes>"
              }
            ],
            "_view_module": "@jupyter-widgets/output",
            "_model_module_version": "1.0.0",
            "_view_count": null,
            "_view_module_version": "1.0.0",
            "layout": "IPY_MODEL_f56a877794624fb3a0d1c01e38bebeb6",
            "_model_module": "@jupyter-widgets/output"
          }
        },
        "41f2cba23f834910b7f357b18b60fc80": {
          "model_module": "@jupyter-widgets/controls",
          "model_name": "DescriptionStyleModel",
          "state": {
            "_view_name": "StyleView",
            "_model_name": "DescriptionStyleModel",
            "description_width": "",
            "_view_module": "@jupyter-widgets/base",
            "_model_module_version": "1.5.0",
            "_view_count": null,
            "_view_module_version": "1.2.0",
            "_model_module": "@jupyter-widgets/controls"
          }
        },
        "dee4c033cef645af920c823468d8f213": {
          "model_module": "@jupyter-widgets/base",
          "model_name": "LayoutModel",
          "state": {
            "_view_name": "LayoutView",
            "grid_template_rows": null,
            "right": null,
            "justify_content": null,
            "_view_module": "@jupyter-widgets/base",
            "overflow": null,
            "_model_module_version": "1.2.0",
            "_view_count": null,
            "flex_flow": null,
            "width": null,
            "min_width": null,
            "border": null,
            "align_items": null,
            "bottom": null,
            "_model_module": "@jupyter-widgets/base",
            "top": null,
            "grid_column": null,
            "overflow_y": null,
            "overflow_x": null,
            "grid_auto_flow": null,
            "grid_area": null,
            "grid_template_columns": null,
            "flex": null,
            "_model_name": "LayoutModel",
            "justify_items": null,
            "grid_row": null,
            "max_height": null,
            "align_content": null,
            "visibility": null,
            "align_self": null,
            "height": null,
            "min_height": null,
            "padding": null,
            "grid_auto_rows": null,
            "grid_gap": null,
            "max_width": null,
            "order": null,
            "_view_module_version": "1.2.0",
            "grid_template_areas": null,
            "object_position": null,
            "object_fit": null,
            "grid_auto_columns": null,
            "margin": null,
            "display": null,
            "left": null
          }
        },
        "f56a877794624fb3a0d1c01e38bebeb6": {
          "model_module": "@jupyter-widgets/base",
          "model_name": "LayoutModel",
          "state": {
            "_view_name": "LayoutView",
            "grid_template_rows": null,
            "right": null,
            "justify_content": null,
            "_view_module": "@jupyter-widgets/base",
            "overflow": null,
            "_model_module_version": "1.2.0",
            "_view_count": null,
            "flex_flow": null,
            "width": null,
            "min_width": null,
            "border": null,
            "align_items": null,
            "bottom": null,
            "_model_module": "@jupyter-widgets/base",
            "top": null,
            "grid_column": null,
            "overflow_y": null,
            "overflow_x": null,
            "grid_auto_flow": null,
            "grid_area": null,
            "grid_template_columns": null,
            "flex": null,
            "_model_name": "LayoutModel",
            "justify_items": null,
            "grid_row": null,
            "max_height": null,
            "align_content": null,
            "visibility": null,
            "align_self": null,
            "height": null,
            "min_height": null,
            "padding": null,
            "grid_auto_rows": null,
            "grid_gap": null,
            "max_width": null,
            "order": null,
            "_view_module_version": "1.2.0",
            "grid_template_areas": null,
            "object_position": null,
            "object_fit": null,
            "grid_auto_columns": null,
            "margin": null,
            "display": null,
            "left": null
          }
        },
        "cb0169ac806b4a6199a61df39425c554": {
          "model_module": "@jupyter-widgets/controls",
          "model_name": "VBoxModel",
          "state": {
            "_view_name": "VBoxView",
            "_dom_classes": [
              "widget-interact"
            ],
            "_model_name": "VBoxModel",
            "_view_module": "@jupyter-widgets/controls",
            "_model_module_version": "1.5.0",
            "_view_count": null,
            "_view_module_version": "1.5.0",
            "box_style": "",
            "layout": "IPY_MODEL_6e71edeb86034807b74a32dd18e17a31",
            "_model_module": "@jupyter-widgets/controls",
            "children": [
              "IPY_MODEL_0570585b62294e3590dfb209af9511f2",
              "IPY_MODEL_f983922ac7994e608ddd4a4c8ef95eb1",
              "IPY_MODEL_0403b3e1a753462bae269c10aa268cbd"
            ]
          }
        },
        "6e71edeb86034807b74a32dd18e17a31": {
          "model_module": "@jupyter-widgets/base",
          "model_name": "LayoutModel",
          "state": {
            "_view_name": "LayoutView",
            "grid_template_rows": null,
            "right": null,
            "justify_content": null,
            "_view_module": "@jupyter-widgets/base",
            "overflow": null,
            "_model_module_version": "1.2.0",
            "_view_count": null,
            "flex_flow": null,
            "width": null,
            "min_width": null,
            "border": null,
            "align_items": null,
            "bottom": null,
            "_model_module": "@jupyter-widgets/base",
            "top": null,
            "grid_column": null,
            "overflow_y": null,
            "overflow_x": null,
            "grid_auto_flow": null,
            "grid_area": null,
            "grid_template_columns": null,
            "flex": null,
            "_model_name": "LayoutModel",
            "justify_items": null,
            "grid_row": null,
            "max_height": null,
            "align_content": null,
            "visibility": null,
            "align_self": null,
            "height": null,
            "min_height": null,
            "padding": null,
            "grid_auto_rows": null,
            "grid_gap": null,
            "max_width": null,
            "order": null,
            "_view_module_version": "1.2.0",
            "grid_template_areas": null,
            "object_position": null,
            "object_fit": null,
            "grid_auto_columns": null,
            "margin": null,
            "display": null,
            "left": null
          }
        },
        "0570585b62294e3590dfb209af9511f2": {
          "model_module": "@jupyter-widgets/controls",
          "model_name": "DropdownModel",
          "state": {
            "_options_labels": [
              "Price",
              "Rating",
              "Review_Count",
              "Flavor_Rating",
              "Size",
              "Servings",
              "Scoop_Size",
              "Available_Sizes",
              "Available_Flavors"
            ],
            "_view_name": "DropdownView",
            "style": "IPY_MODEL_6b57cd4f62134c36a8ecb7eee56305c9",
            "_dom_classes": [],
            "description": "x",
            "_model_name": "DropdownModel",
            "index": 0,
            "_view_module": "@jupyter-widgets/controls",
            "_model_module_version": "1.5.0",
            "_view_count": null,
            "disabled": false,
            "_view_module_version": "1.5.0",
            "description_tooltip": null,
            "_model_module": "@jupyter-widgets/controls",
            "layout": "IPY_MODEL_5aeff008e44f432c889e0c2fbdb33ec6"
          }
        },
        "f983922ac7994e608ddd4a4c8ef95eb1": {
          "model_module": "@jupyter-widgets/controls",
          "model_name": "DropdownModel",
          "state": {
            "_options_labels": [
              "Price",
              "Rating",
              "Review_Count",
              "Flavor_Rating",
              "Size",
              "Servings",
              "Scoop_Size",
              "Available_Sizes",
              "Available_Flavors"
            ],
            "_view_name": "DropdownView",
            "style": "IPY_MODEL_79014c06f6814537b60a66fa4688effd",
            "_dom_classes": [],
            "description": "y",
            "_model_name": "DropdownModel",
            "index": 0,
            "_view_module": "@jupyter-widgets/controls",
            "_model_module_version": "1.5.0",
            "_view_count": null,
            "disabled": false,
            "_view_module_version": "1.5.0",
            "description_tooltip": null,
            "_model_module": "@jupyter-widgets/controls",
            "layout": "IPY_MODEL_0944676084864e74b642d8563ce27ac0"
          }
        },
        "0403b3e1a753462bae269c10aa268cbd": {
          "model_module": "@jupyter-widgets/output",
          "model_name": "OutputModel",
          "state": {
            "_view_name": "OutputView",
            "msg_id": "",
            "_dom_classes": [],
            "_model_name": "OutputModel",
            "outputs": [
              {
                "output_type": "display_data",
                "metadata": {
                  "tags": [],
                  "needs_background": "light"
                },
                "image/png": "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\n",
                "text/plain": "<Figure size 576x576 with 1 Axes>"
              }
            ],
            "_view_module": "@jupyter-widgets/output",
            "_model_module_version": "1.0.0",
            "_view_count": null,
            "_view_module_version": "1.0.0",
            "layout": "IPY_MODEL_e5ad9c8e9ab3452a98426a88f2dfef01",
            "_model_module": "@jupyter-widgets/output"
          }
        },
        "6b57cd4f62134c36a8ecb7eee56305c9": {
          "model_module": "@jupyter-widgets/controls",
          "model_name": "DescriptionStyleModel",
          "state": {
            "_view_name": "StyleView",
            "_model_name": "DescriptionStyleModel",
            "description_width": "",
            "_view_module": "@jupyter-widgets/base",
            "_model_module_version": "1.5.0",
            "_view_count": null,
            "_view_module_version": "1.2.0",
            "_model_module": "@jupyter-widgets/controls"
          }
        },
        "5aeff008e44f432c889e0c2fbdb33ec6": {
          "model_module": "@jupyter-widgets/base",
          "model_name": "LayoutModel",
          "state": {
            "_view_name": "LayoutView",
            "grid_template_rows": null,
            "right": null,
            "justify_content": null,
            "_view_module": "@jupyter-widgets/base",
            "overflow": null,
            "_model_module_version": "1.2.0",
            "_view_count": null,
            "flex_flow": null,
            "width": null,
            "min_width": null,
            "border": null,
            "align_items": null,
            "bottom": null,
            "_model_module": "@jupyter-widgets/base",
            "top": null,
            "grid_column": null,
            "overflow_y": null,
            "overflow_x": null,
            "grid_auto_flow": null,
            "grid_area": null,
            "grid_template_columns": null,
            "flex": null,
            "_model_name": "LayoutModel",
            "justify_items": null,
            "grid_row": null,
            "max_height": null,
            "align_content": null,
            "visibility": null,
            "align_self": null,
            "height": null,
            "min_height": null,
            "padding": null,
            "grid_auto_rows": null,
            "grid_gap": null,
            "max_width": null,
            "order": null,
            "_view_module_version": "1.2.0",
            "grid_template_areas": null,
            "object_position": null,
            "object_fit": null,
            "grid_auto_columns": null,
            "margin": null,
            "display": null,
            "left": null
          }
        },
        "79014c06f6814537b60a66fa4688effd": {
          "model_module": "@jupyter-widgets/controls",
          "model_name": "DescriptionStyleModel",
          "state": {
            "_view_name": "StyleView",
            "_model_name": "DescriptionStyleModel",
            "description_width": "",
            "_view_module": "@jupyter-widgets/base",
            "_model_module_version": "1.5.0",
            "_view_count": null,
            "_view_module_version": "1.2.0",
            "_model_module": "@jupyter-widgets/controls"
          }
        },
        "0944676084864e74b642d8563ce27ac0": {
          "model_module": "@jupyter-widgets/base",
          "model_name": "LayoutModel",
          "state": {
            "_view_name": "LayoutView",
            "grid_template_rows": null,
            "right": null,
            "justify_content": null,
            "_view_module": "@jupyter-widgets/base",
            "overflow": null,
            "_model_module_version": "1.2.0",
            "_view_count": null,
            "flex_flow": null,
            "width": null,
            "min_width": null,
            "border": null,
            "align_items": null,
            "bottom": null,
            "_model_module": "@jupyter-widgets/base",
            "top": null,
            "grid_column": null,
            "overflow_y": null,
            "overflow_x": null,
            "grid_auto_flow": null,
            "grid_area": null,
            "grid_template_columns": null,
            "flex": null,
            "_model_name": "LayoutModel",
            "justify_items": null,
            "grid_row": null,
            "max_height": null,
            "align_content": null,
            "visibility": null,
            "align_self": null,
            "height": null,
            "min_height": null,
            "padding": null,
            "grid_auto_rows": null,
            "grid_gap": null,
            "max_width": null,
            "order": null,
            "_view_module_version": "1.2.0",
            "grid_template_areas": null,
            "object_position": null,
            "object_fit": null,
            "grid_auto_columns": null,
            "margin": null,
            "display": null,
            "left": null
          }
        },
        "e5ad9c8e9ab3452a98426a88f2dfef01": {
          "model_module": "@jupyter-widgets/base",
          "model_name": "LayoutModel",
          "state": {
            "_view_name": "LayoutView",
            "grid_template_rows": null,
            "right": null,
            "justify_content": null,
            "_view_module": "@jupyter-widgets/base",
            "overflow": null,
            "_model_module_version": "1.2.0",
            "_view_count": null,
            "flex_flow": null,
            "width": null,
            "min_width": null,
            "border": null,
            "align_items": null,
            "bottom": null,
            "_model_module": "@jupyter-widgets/base",
            "top": null,
            "grid_column": null,
            "overflow_y": null,
            "overflow_x": null,
            "grid_auto_flow": null,
            "grid_area": null,
            "grid_template_columns": null,
            "flex": null,
            "_model_name": "LayoutModel",
            "justify_items": null,
            "grid_row": null,
            "max_height": null,
            "align_content": null,
            "visibility": null,
            "align_self": null,
            "height": null,
            "min_height": null,
            "padding": null,
            "grid_auto_rows": null,
            "grid_gap": null,
            "max_width": null,
            "order": null,
            "_view_module_version": "1.2.0",
            "grid_template_areas": null,
            "object_position": null,
            "object_fit": null,
            "grid_auto_columns": null,
            "margin": null,
            "display": null,
            "left": null
          }
        },
        "3c75a0343a3c442098b8a200ecf4f0b4": {
          "model_module": "@jupyter-widgets/controls",
          "model_name": "VBoxModel",
          "state": {
            "_view_name": "VBoxView",
            "_dom_classes": [
              "widget-interact"
            ],
            "_model_name": "VBoxModel",
            "_view_module": "@jupyter-widgets/controls",
            "_model_module_version": "1.5.0",
            "_view_count": null,
            "_view_module_version": "1.5.0",
            "box_style": "",
            "layout": "IPY_MODEL_cfaf63f4c4564955a63c5d1f2a9df578",
            "_model_module": "@jupyter-widgets/controls",
            "children": [
              "IPY_MODEL_9c7207e7e9f946229659845b62e14e65",
              "IPY_MODEL_ff0e964f37964b24a317716a2b346b44"
            ]
          }
        },
        "cfaf63f4c4564955a63c5d1f2a9df578": {
          "model_module": "@jupyter-widgets/base",
          "model_name": "LayoutModel",
          "state": {
            "_view_name": "LayoutView",
            "grid_template_rows": null,
            "right": null,
            "justify_content": null,
            "_view_module": "@jupyter-widgets/base",
            "overflow": null,
            "_model_module_version": "1.2.0",
            "_view_count": null,
            "flex_flow": null,
            "width": null,
            "min_width": null,
            "border": null,
            "align_items": null,
            "bottom": null,
            "_model_module": "@jupyter-widgets/base",
            "top": null,
            "grid_column": null,
            "overflow_y": null,
            "overflow_x": null,
            "grid_auto_flow": null,
            "grid_area": null,
            "grid_template_columns": null,
            "flex": null,
            "_model_name": "LayoutModel",
            "justify_items": null,
            "grid_row": null,
            "max_height": null,
            "align_content": null,
            "visibility": null,
            "align_self": null,
            "height": null,
            "min_height": null,
            "padding": null,
            "grid_auto_rows": null,
            "grid_gap": null,
            "max_width": null,
            "order": null,
            "_view_module_version": "1.2.0",
            "grid_template_areas": null,
            "object_position": null,
            "object_fit": null,
            "grid_auto_columns": null,
            "margin": null,
            "display": null,
            "left": null
          }
        },
        "9c7207e7e9f946229659845b62e14e65": {
          "model_module": "@jupyter-widgets/controls",
          "model_name": "DropdownModel",
          "state": {
            "_options_labels": [
              "Price",
              "Rating",
              "Review_Count",
              "Flavor_Rating",
              "Size",
              "Servings",
              "Scoop_Size",
              "Available_Sizes",
              "Available_Flavors"
            ],
            "_view_name": "DropdownView",
            "style": "IPY_MODEL_c847a718dd95476ebf68dd1f34c7edd6",
            "_dom_classes": [],
            "description": "y",
            "_model_name": "DropdownModel",
            "index": 0,
            "_view_module": "@jupyter-widgets/controls",
            "_model_module_version": "1.5.0",
            "_view_count": null,
            "disabled": false,
            "_view_module_version": "1.5.0",
            "description_tooltip": null,
            "_model_module": "@jupyter-widgets/controls",
            "layout": "IPY_MODEL_26df7312dd3841109de12aa84efd1cd8"
          }
        },
        "ff0e964f37964b24a317716a2b346b44": {
          "model_module": "@jupyter-widgets/output",
          "model_name": "OutputModel",
          "state": {
            "_view_name": "OutputView",
            "msg_id": "",
            "_dom_classes": [],
            "_model_name": "OutputModel",
            "outputs": [
              {
                "output_type": "display_data",
                "metadata": {
                  "tags": [],
                  "needs_background": "light"
                },
                "image/png": "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\n",
                "text/plain": "<Figure size 432x432 with 1 Axes>"
              }
            ],
            "_view_module": "@jupyter-widgets/output",
            "_model_module_version": "1.0.0",
            "_view_count": null,
            "_view_module_version": "1.0.0",
            "layout": "IPY_MODEL_c1c310ed54474598b2310cce6a626ed6",
            "_model_module": "@jupyter-widgets/output"
          }
        },
        "c847a718dd95476ebf68dd1f34c7edd6": {
          "model_module": "@jupyter-widgets/controls",
          "model_name": "DescriptionStyleModel",
          "state": {
            "_view_name": "StyleView",
            "_model_name": "DescriptionStyleModel",
            "description_width": "",
            "_view_module": "@jupyter-widgets/base",
            "_model_module_version": "1.5.0",
            "_view_count": null,
            "_view_module_version": "1.2.0",
            "_model_module": "@jupyter-widgets/controls"
          }
        },
        "26df7312dd3841109de12aa84efd1cd8": {
          "model_module": "@jupyter-widgets/base",
          "model_name": "LayoutModel",
          "state": {
            "_view_name": "LayoutView",
            "grid_template_rows": null,
            "right": null,
            "justify_content": null,
            "_view_module": "@jupyter-widgets/base",
            "overflow": null,
            "_model_module_version": "1.2.0",
            "_view_count": null,
            "flex_flow": null,
            "width": null,
            "min_width": null,
            "border": null,
            "align_items": null,
            "bottom": null,
            "_model_module": "@jupyter-widgets/base",
            "top": null,
            "grid_column": null,
            "overflow_y": null,
            "overflow_x": null,
            "grid_auto_flow": null,
            "grid_area": null,
            "grid_template_columns": null,
            "flex": null,
            "_model_name": "LayoutModel",
            "justify_items": null,
            "grid_row": null,
            "max_height": null,
            "align_content": null,
            "visibility": null,
            "align_self": null,
            "height": null,
            "min_height": null,
            "padding": null,
            "grid_auto_rows": null,
            "grid_gap": null,
            "max_width": null,
            "order": null,
            "_view_module_version": "1.2.0",
            "grid_template_areas": null,
            "object_position": null,
            "object_fit": null,
            "grid_auto_columns": null,
            "margin": null,
            "display": null,
            "left": null
          }
        },
        "c1c310ed54474598b2310cce6a626ed6": {
          "model_module": "@jupyter-widgets/base",
          "model_name": "LayoutModel",
          "state": {
            "_view_name": "LayoutView",
            "grid_template_rows": null,
            "right": null,
            "justify_content": null,
            "_view_module": "@jupyter-widgets/base",
            "overflow": null,
            "_model_module_version": "1.2.0",
            "_view_count": null,
            "flex_flow": null,
            "width": null,
            "min_width": null,
            "border": null,
            "align_items": null,
            "bottom": null,
            "_model_module": "@jupyter-widgets/base",
            "top": null,
            "grid_column": null,
            "overflow_y": null,
            "overflow_x": null,
            "grid_auto_flow": null,
            "grid_area": null,
            "grid_template_columns": null,
            "flex": null,
            "_model_name": "LayoutModel",
            "justify_items": null,
            "grid_row": null,
            "max_height": null,
            "align_content": null,
            "visibility": null,
            "align_self": null,
            "height": null,
            "min_height": null,
            "padding": null,
            "grid_auto_rows": null,
            "grid_gap": null,
            "max_width": null,
            "order": null,
            "_view_module_version": "1.2.0",
            "grid_template_areas": null,
            "object_position": null,
            "object_fit": null,
            "grid_auto_columns": null,
            "margin": null,
            "display": null,
            "left": null
          }
        },
        "45c37396d2834282a6eec14ce74cf613": {
          "model_module": "@jupyter-widgets/controls",
          "model_name": "VBoxModel",
          "state": {
            "_view_name": "VBoxView",
            "_dom_classes": [
              "widget-interact"
            ],
            "_model_name": "VBoxModel",
            "_view_module": "@jupyter-widgets/controls",
            "_model_module_version": "1.5.0",
            "_view_count": null,
            "_view_module_version": "1.5.0",
            "box_style": "",
            "layout": "IPY_MODEL_ac3b7f4186c4419c82457da1e7cec9b0",
            "_model_module": "@jupyter-widgets/controls",
            "children": [
              "IPY_MODEL_930d46c0fbdc47399b9743f8b78f2164",
              "IPY_MODEL_f247a1824cc3423584776ce37b7a54cf",
              "IPY_MODEL_195080b7ed1a4c8a87bcb19d5d57aa33"
            ]
          }
        },
        "ac3b7f4186c4419c82457da1e7cec9b0": {
          "model_module": "@jupyter-widgets/base",
          "model_name": "LayoutModel",
          "state": {
            "_view_name": "LayoutView",
            "grid_template_rows": null,
            "right": null,
            "justify_content": null,
            "_view_module": "@jupyter-widgets/base",
            "overflow": null,
            "_model_module_version": "1.2.0",
            "_view_count": null,
            "flex_flow": null,
            "width": null,
            "min_width": null,
            "border": null,
            "align_items": null,
            "bottom": null,
            "_model_module": "@jupyter-widgets/base",
            "top": null,
            "grid_column": null,
            "overflow_y": null,
            "overflow_x": null,
            "grid_auto_flow": null,
            "grid_area": null,
            "grid_template_columns": null,
            "flex": null,
            "_model_name": "LayoutModel",
            "justify_items": null,
            "grid_row": null,
            "max_height": null,
            "align_content": null,
            "visibility": null,
            "align_self": null,
            "height": null,
            "min_height": null,
            "padding": null,
            "grid_auto_rows": null,
            "grid_gap": null,
            "max_width": null,
            "order": null,
            "_view_module_version": "1.2.0",
            "grid_template_areas": null,
            "object_position": null,
            "object_fit": null,
            "grid_auto_columns": null,
            "margin": null,
            "display": null,
            "left": null
          }
        },
        "930d46c0fbdc47399b9743f8b78f2164": {
          "model_module": "@jupyter-widgets/controls",
          "model_name": "DropdownModel",
          "state": {
            "_options_labels": [
              "Brand",
              "Flavor"
            ],
            "_view_name": "DropdownView",
            "style": "IPY_MODEL_64ff745c82e74d37a4b360c97afab7f8",
            "_dom_classes": [],
            "description": "Column",
            "_model_name": "DropdownModel",
            "index": 0,
            "_view_module": "@jupyter-widgets/controls",
            "_model_module_version": "1.5.0",
            "_view_count": null,
            "disabled": false,
            "_view_module_version": "1.5.0",
            "description_tooltip": null,
            "_model_module": "@jupyter-widgets/controls",
            "layout": "IPY_MODEL_430d212459084268ac63a26dad3914c0"
          }
        },
        "f247a1824cc3423584776ce37b7a54cf": {
          "model_module": "@jupyter-widgets/controls",
          "model_name": "DropdownModel",
          "state": {
            "_options_labels": [
              "protein",
              "workout_booster"
            ],
            "_view_name": "DropdownView",
            "style": "IPY_MODEL_5b633e40e4c046618e7677a6f95d751a",
            "_dom_classes": [],
            "description": "type",
            "_model_name": "DropdownModel",
            "index": 0,
            "_view_module": "@jupyter-widgets/controls",
            "_model_module_version": "1.5.0",
            "_view_count": null,
            "disabled": false,
            "_view_module_version": "1.5.0",
            "description_tooltip": null,
            "_model_module": "@jupyter-widgets/controls",
            "layout": "IPY_MODEL_9dbb385cba574b6aa75098b7029d61b3"
          }
        },
        "195080b7ed1a4c8a87bcb19d5d57aa33": {
          "model_module": "@jupyter-widgets/output",
          "model_name": "OutputModel",
          "state": {
            "_view_name": "OutputView",
            "msg_id": "",
            "_dom_classes": [],
            "_model_name": "OutputModel",
            "outputs": [
              {
                "output_type": "display_data",
                "metadata": {
                  "tags": []
                },
                "image/png": "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\n",
                "text/plain": "<Figure size 432x432 with 1 Axes>"
              }
            ],
            "_view_module": "@jupyter-widgets/output",
            "_model_module_version": "1.0.0",
            "_view_count": null,
            "_view_module_version": "1.0.0",
            "layout": "IPY_MODEL_6cff8db902114e9e83293ea42c4658f1",
            "_model_module": "@jupyter-widgets/output"
          }
        },
        "64ff745c82e74d37a4b360c97afab7f8": {
          "model_module": "@jupyter-widgets/controls",
          "model_name": "DescriptionStyleModel",
          "state": {
            "_view_name": "StyleView",
            "_model_name": "DescriptionStyleModel",
            "description_width": "",
            "_view_module": "@jupyter-widgets/base",
            "_model_module_version": "1.5.0",
            "_view_count": null,
            "_view_module_version": "1.2.0",
            "_model_module": "@jupyter-widgets/controls"
          }
        },
        "430d212459084268ac63a26dad3914c0": {
          "model_module": "@jupyter-widgets/base",
          "model_name": "LayoutModel",
          "state": {
            "_view_name": "LayoutView",
            "grid_template_rows": null,
            "right": null,
            "justify_content": null,
            "_view_module": "@jupyter-widgets/base",
            "overflow": null,
            "_model_module_version": "1.2.0",
            "_view_count": null,
            "flex_flow": null,
            "width": null,
            "min_width": null,
            "border": null,
            "align_items": null,
            "bottom": null,
            "_model_module": "@jupyter-widgets/base",
            "top": null,
            "grid_column": null,
            "overflow_y": null,
            "overflow_x": null,
            "grid_auto_flow": null,
            "grid_area": null,
            "grid_template_columns": null,
            "flex": null,
            "_model_name": "LayoutModel",
            "justify_items": null,
            "grid_row": null,
            "max_height": null,
            "align_content": null,
            "visibility": null,
            "align_self": null,
            "height": null,
            "min_height": null,
            "padding": null,
            "grid_auto_rows": null,
            "grid_gap": null,
            "max_width": null,
            "order": null,
            "_view_module_version": "1.2.0",
            "grid_template_areas": null,
            "object_position": null,
            "object_fit": null,
            "grid_auto_columns": null,
            "margin": null,
            "display": null,
            "left": null
          }
        },
        "5b633e40e4c046618e7677a6f95d751a": {
          "model_module": "@jupyter-widgets/controls",
          "model_name": "DescriptionStyleModel",
          "state": {
            "_view_name": "StyleView",
            "_model_name": "DescriptionStyleModel",
            "description_width": "",
            "_view_module": "@jupyter-widgets/base",
            "_model_module_version": "1.5.0",
            "_view_count": null,
            "_view_module_version": "1.2.0",
            "_model_module": "@jupyter-widgets/controls"
          }
        },
        "9dbb385cba574b6aa75098b7029d61b3": {
          "model_module": "@jupyter-widgets/base",
          "model_name": "LayoutModel",
          "state": {
            "_view_name": "LayoutView",
            "grid_template_rows": null,
            "right": null,
            "justify_content": null,
            "_view_module": "@jupyter-widgets/base",
            "overflow": null,
            "_model_module_version": "1.2.0",
            "_view_count": null,
            "flex_flow": null,
            "width": null,
            "min_width": null,
            "border": null,
            "align_items": null,
            "bottom": null,
            "_model_module": "@jupyter-widgets/base",
            "top": null,
            "grid_column": null,
            "overflow_y": null,
            "overflow_x": null,
            "grid_auto_flow": null,
            "grid_area": null,
            "grid_template_columns": null,
            "flex": null,
            "_model_name": "LayoutModel",
            "justify_items": null,
            "grid_row": null,
            "max_height": null,
            "align_content": null,
            "visibility": null,
            "align_self": null,
            "height": null,
            "min_height": null,
            "padding": null,
            "grid_auto_rows": null,
            "grid_gap": null,
            "max_width": null,
            "order": null,
            "_view_module_version": "1.2.0",
            "grid_template_areas": null,
            "object_position": null,
            "object_fit": null,
            "grid_auto_columns": null,
            "margin": null,
            "display": null,
            "left": null
          }
        },
        "6cff8db902114e9e83293ea42c4658f1": {
          "model_module": "@jupyter-widgets/base",
          "model_name": "LayoutModel",
          "state": {
            "_view_name": "LayoutView",
            "grid_template_rows": null,
            "right": null,
            "justify_content": null,
            "_view_module": "@jupyter-widgets/base",
            "overflow": null,
            "_model_module_version": "1.2.0",
            "_view_count": null,
            "flex_flow": null,
            "width": null,
            "min_width": null,
            "border": null,
            "align_items": null,
            "bottom": null,
            "_model_module": "@jupyter-widgets/base",
            "top": null,
            "grid_column": null,
            "overflow_y": null,
            "overflow_x": null,
            "grid_auto_flow": null,
            "grid_area": null,
            "grid_template_columns": null,
            "flex": null,
            "_model_name": "LayoutModel",
            "justify_items": null,
            "grid_row": null,
            "max_height": null,
            "align_content": null,
            "visibility": null,
            "align_self": null,
            "height": null,
            "min_height": null,
            "padding": null,
            "grid_auto_rows": null,
            "grid_gap": null,
            "max_width": null,
            "order": null,
            "_view_module_version": "1.2.0",
            "grid_template_areas": null,
            "object_position": null,
            "object_fit": null,
            "grid_auto_columns": null,
            "margin": null,
            "display": null,
            "left": null
          }
        },
        "8412727b833948f989431a76a540d225": {
          "model_module": "@jupyter-widgets/controls",
          "model_name": "VBoxModel",
          "state": {
            "_view_name": "VBoxView",
            "_dom_classes": [
              "widget-interact"
            ],
            "_model_name": "VBoxModel",
            "_view_module": "@jupyter-widgets/controls",
            "_model_module_version": "1.5.0",
            "_view_count": null,
            "_view_module_version": "1.5.0",
            "box_style": "",
            "layout": "IPY_MODEL_a193da02d1144ac3afed0b674189e1aa",
            "_model_module": "@jupyter-widgets/controls",
            "children": [
              "IPY_MODEL_be8c5b9778f946c69dada672902b4de7",
              "IPY_MODEL_bf64e60b5f2c4c51974569bb56a77bb1"
            ]
          }
        },
        "a193da02d1144ac3afed0b674189e1aa": {
          "model_module": "@jupyter-widgets/base",
          "model_name": "LayoutModel",
          "state": {
            "_view_name": "LayoutView",
            "grid_template_rows": null,
            "right": null,
            "justify_content": null,
            "_view_module": "@jupyter-widgets/base",
            "overflow": null,
            "_model_module_version": "1.2.0",
            "_view_count": null,
            "flex_flow": null,
            "width": null,
            "min_width": null,
            "border": null,
            "align_items": null,
            "bottom": null,
            "_model_module": "@jupyter-widgets/base",
            "top": null,
            "grid_column": null,
            "overflow_y": null,
            "overflow_x": null,
            "grid_auto_flow": null,
            "grid_area": null,
            "grid_template_columns": null,
            "flex": null,
            "_model_name": "LayoutModel",
            "justify_items": null,
            "grid_row": null,
            "max_height": null,
            "align_content": null,
            "visibility": null,
            "align_self": null,
            "height": null,
            "min_height": null,
            "padding": null,
            "grid_auto_rows": null,
            "grid_gap": null,
            "max_width": null,
            "order": null,
            "_view_module_version": "1.2.0",
            "grid_template_areas": null,
            "object_position": null,
            "object_fit": null,
            "grid_auto_columns": null,
            "margin": null,
            "display": null,
            "left": null
          }
        },
        "be8c5b9778f946c69dada672902b4de7": {
          "model_module": "@jupyter-widgets/controls",
          "model_name": "DropdownModel",
          "state": {
            "_options_labels": [
              "Price",
              "Rating",
              "Review_Count",
              "Flavor_Rating",
              "Size",
              "Servings",
              "Scoop_Size",
              "Available_Sizes",
              "Available_Flavors"
            ],
            "_view_name": "DropdownView",
            "style": "IPY_MODEL_02c87dea990e4d4686659cc7b44138dd",
            "_dom_classes": [],
            "description": "Columns",
            "_model_name": "DropdownModel",
            "index": 0,
            "_view_module": "@jupyter-widgets/controls",
            "_model_module_version": "1.5.0",
            "_view_count": null,
            "disabled": false,
            "_view_module_version": "1.5.0",
            "description_tooltip": null,
            "_model_module": "@jupyter-widgets/controls",
            "layout": "IPY_MODEL_3ac19b4c4ecb4a628b3ec29ffd2b5939"
          }
        },
        "bf64e60b5f2c4c51974569bb56a77bb1": {
          "model_module": "@jupyter-widgets/output",
          "model_name": "OutputModel",
          "state": {
            "_view_name": "OutputView",
            "msg_id": "",
            "_dom_classes": [],
            "_model_name": "OutputModel",
            "outputs": [
              {
                "output_type": "display_data",
                "metadata": {
                  "tags": []
                },
                "text/plain": "<Figure size 1080x1080 with 0 Axes>"
              },
              {
                "output_type": "display_data",
                "metadata": {
                  "tags": [],
                  "needs_background": "light"
                },
                "image/png": "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\n",
                "text/plain": "<Figure size 360x360 with 1 Axes>"
              }
            ],
            "_view_module": "@jupyter-widgets/output",
            "_model_module_version": "1.0.0",
            "_view_count": null,
            "_view_module_version": "1.0.0",
            "layout": "IPY_MODEL_b0eda22740484c499a2ff1707a4be4eb",
            "_model_module": "@jupyter-widgets/output"
          }
        },
        "02c87dea990e4d4686659cc7b44138dd": {
          "model_module": "@jupyter-widgets/controls",
          "model_name": "DescriptionStyleModel",
          "state": {
            "_view_name": "StyleView",
            "_model_name": "DescriptionStyleModel",
            "description_width": "",
            "_view_module": "@jupyter-widgets/base",
            "_model_module_version": "1.5.0",
            "_view_count": null,
            "_view_module_version": "1.2.0",
            "_model_module": "@jupyter-widgets/controls"
          }
        },
        "3ac19b4c4ecb4a628b3ec29ffd2b5939": {
          "model_module": "@jupyter-widgets/base",
          "model_name": "LayoutModel",
          "state": {
            "_view_name": "LayoutView",
            "grid_template_rows": null,
            "right": null,
            "justify_content": null,
            "_view_module": "@jupyter-widgets/base",
            "overflow": null,
            "_model_module_version": "1.2.0",
            "_view_count": null,
            "flex_flow": null,
            "width": null,
            "min_width": null,
            "border": null,
            "align_items": null,
            "bottom": null,
            "_model_module": "@jupyter-widgets/base",
            "top": null,
            "grid_column": null,
            "overflow_y": null,
            "overflow_x": null,
            "grid_auto_flow": null,
            "grid_area": null,
            "grid_template_columns": null,
            "flex": null,
            "_model_name": "LayoutModel",
            "justify_items": null,
            "grid_row": null,
            "max_height": null,
            "align_content": null,
            "visibility": null,
            "align_self": null,
            "height": null,
            "min_height": null,
            "padding": null,
            "grid_auto_rows": null,
            "grid_gap": null,
            "max_width": null,
            "order": null,
            "_view_module_version": "1.2.0",
            "grid_template_areas": null,
            "object_position": null,
            "object_fit": null,
            "grid_auto_columns": null,
            "margin": null,
            "display": null,
            "left": null
          }
        },
        "b0eda22740484c499a2ff1707a4be4eb": {
          "model_module": "@jupyter-widgets/base",
          "model_name": "LayoutModel",
          "state": {
            "_view_name": "LayoutView",
            "grid_template_rows": null,
            "right": null,
            "justify_content": null,
            "_view_module": "@jupyter-widgets/base",
            "overflow": null,
            "_model_module_version": "1.2.0",
            "_view_count": null,
            "flex_flow": null,
            "width": null,
            "min_width": null,
            "border": null,
            "align_items": null,
            "bottom": null,
            "_model_module": "@jupyter-widgets/base",
            "top": null,
            "grid_column": null,
            "overflow_y": null,
            "overflow_x": null,
            "grid_auto_flow": null,
            "grid_area": null,
            "grid_template_columns": null,
            "flex": null,
            "_model_name": "LayoutModel",
            "justify_items": null,
            "grid_row": null,
            "max_height": null,
            "align_content": null,
            "visibility": null,
            "align_self": null,
            "height": null,
            "min_height": null,
            "padding": null,
            "grid_auto_rows": null,
            "grid_gap": null,
            "max_width": null,
            "order": null,
            "_view_module_version": "1.2.0",
            "grid_template_areas": null,
            "object_position": null,
            "object_fit": null,
            "grid_auto_columns": null,
            "margin": null,
            "display": null,
            "left": null
          }
        },
        "8516892465184594a173735a3b0f91aa": {
          "model_module": "@jupyter-widgets/controls",
          "model_name": "VBoxModel",
          "state": {
            "_view_name": "VBoxView",
            "_dom_classes": [
              "widget-interact"
            ],
            "_model_name": "VBoxModel",
            "_view_module": "@jupyter-widgets/controls",
            "_model_module_version": "1.5.0",
            "_view_count": null,
            "_view_module_version": "1.5.0",
            "box_style": "",
            "layout": "IPY_MODEL_1899dadb534544d58a301d75f30592da",
            "_model_module": "@jupyter-widgets/controls",
            "children": [
              "IPY_MODEL_96ae1fbbfe664b1f80cdbd27a41cfdf3",
              "IPY_MODEL_0fbe1a4f3c7d42879920fb8a2d16496d",
              "IPY_MODEL_ab066df263594141b3bb73586b20c1bd",
              "IPY_MODEL_26efd9f6857d47d482f139b625291131"
            ]
          }
        },
        "1899dadb534544d58a301d75f30592da": {
          "model_module": "@jupyter-widgets/base",
          "model_name": "LayoutModel",
          "state": {
            "_view_name": "LayoutView",
            "grid_template_rows": null,
            "right": null,
            "justify_content": null,
            "_view_module": "@jupyter-widgets/base",
            "overflow": null,
            "_model_module_version": "1.2.0",
            "_view_count": null,
            "flex_flow": null,
            "width": null,
            "min_width": null,
            "border": null,
            "align_items": null,
            "bottom": null,
            "_model_module": "@jupyter-widgets/base",
            "top": null,
            "grid_column": null,
            "overflow_y": null,
            "overflow_x": null,
            "grid_auto_flow": null,
            "grid_area": null,
            "grid_template_columns": null,
            "flex": null,
            "_model_name": "LayoutModel",
            "justify_items": null,
            "grid_row": null,
            "max_height": null,
            "align_content": null,
            "visibility": null,
            "align_self": null,
            "height": null,
            "min_height": null,
            "padding": null,
            "grid_auto_rows": null,
            "grid_gap": null,
            "max_width": null,
            "order": null,
            "_view_module_version": "1.2.0",
            "grid_template_areas": null,
            "object_position": null,
            "object_fit": null,
            "grid_auto_columns": null,
            "margin": null,
            "display": null,
            "left": null
          }
        },
        "96ae1fbbfe664b1f80cdbd27a41cfdf3": {
          "model_module": "@jupyter-widgets/controls",
          "model_name": "DropdownModel",
          "state": {
            "_options_labels": [
              "rf",
              "xgb",
              "ada"
            ],
            "_view_name": "DropdownView",
            "style": "IPY_MODEL_16f2b67335154f71bd9e96b25844952f",
            "_dom_classes": [],
            "description": "model_name",
            "_model_name": "DropdownModel",
            "index": 0,
            "_view_module": "@jupyter-widgets/controls",
            "_model_module_version": "1.5.0",
            "_view_count": null,
            "disabled": false,
            "_view_module_version": "1.5.0",
            "description_tooltip": null,
            "_model_module": "@jupyter-widgets/controls",
            "layout": "IPY_MODEL_efd09a8b136d4decb12192a410f427ed"
          }
        },
        "0fbe1a4f3c7d42879920fb8a2d16496d": {
          "model_module": "@jupyter-widgets/controls",
          "model_name": "IntSliderModel",
          "state": {
            "_view_name": "IntSliderView",
            "style": "IPY_MODEL_7c2c52626ad1463dbe13a59d60f4fd39",
            "_dom_classes": [],
            "description": "folds",
            "step": 1,
            "_model_name": "IntSliderModel",
            "orientation": "horizontal",
            "max": 10,
            "_view_module": "@jupyter-widgets/controls",
            "_model_module_version": "1.5.0",
            "value": 6,
            "_view_count": null,
            "disabled": false,
            "_view_module_version": "1.5.0",
            "min": 2,
            "continuous_update": true,
            "readout_format": "d",
            "description_tooltip": null,
            "readout": true,
            "_model_module": "@jupyter-widgets/controls",
            "layout": "IPY_MODEL_2096980a7c9143269b2865cf60159fb2"
          }
        },
        "ab066df263594141b3bb73586b20c1bd": {
          "model_module": "@jupyter-widgets/controls",
          "model_name": "ButtonModel",
          "state": {
            "_view_name": "ButtonView",
            "style": "IPY_MODEL_49738ae40db04a9ab10a31fa5948131d",
            "_dom_classes": [],
            "description": "Train Models",
            "_model_name": "ButtonModel",
            "button_style": "",
            "_view_module": "@jupyter-widgets/controls",
            "_model_module_version": "1.5.0",
            "tooltip": "",
            "_view_count": null,
            "disabled": false,
            "_view_module_version": "1.5.0",
            "layout": "IPY_MODEL_f4a9623ec77340009e1011673dafee19",
            "_model_module": "@jupyter-widgets/controls",
            "icon": ""
          }
        },
        "26efd9f6857d47d482f139b625291131": {
          "model_module": "@jupyter-widgets/output",
          "model_name": "OutputModel",
          "state": {
            "_view_name": "OutputView",
            "msg_id": "",
            "_dom_classes": [],
            "_model_name": "OutputModel",
            "outputs": [],
            "_view_module": "@jupyter-widgets/output",
            "_model_module_version": "1.0.0",
            "_view_count": null,
            "_view_module_version": "1.0.0",
            "layout": "IPY_MODEL_3e7e6cd09c3c42b9b98643eed3be02b6",
            "_model_module": "@jupyter-widgets/output"
          }
        },
        "16f2b67335154f71bd9e96b25844952f": {
          "model_module": "@jupyter-widgets/controls",
          "model_name": "DescriptionStyleModel",
          "state": {
            "_view_name": "StyleView",
            "_model_name": "DescriptionStyleModel",
            "description_width": "",
            "_view_module": "@jupyter-widgets/base",
            "_model_module_version": "1.5.0",
            "_view_count": null,
            "_view_module_version": "1.2.0",
            "_model_module": "@jupyter-widgets/controls"
          }
        },
        "efd09a8b136d4decb12192a410f427ed": {
          "model_module": "@jupyter-widgets/base",
          "model_name": "LayoutModel",
          "state": {
            "_view_name": "LayoutView",
            "grid_template_rows": null,
            "right": null,
            "justify_content": null,
            "_view_module": "@jupyter-widgets/base",
            "overflow": null,
            "_model_module_version": "1.2.0",
            "_view_count": null,
            "flex_flow": null,
            "width": null,
            "min_width": null,
            "border": null,
            "align_items": null,
            "bottom": null,
            "_model_module": "@jupyter-widgets/base",
            "top": null,
            "grid_column": null,
            "overflow_y": null,
            "overflow_x": null,
            "grid_auto_flow": null,
            "grid_area": null,
            "grid_template_columns": null,
            "flex": null,
            "_model_name": "LayoutModel",
            "justify_items": null,
            "grid_row": null,
            "max_height": null,
            "align_content": null,
            "visibility": null,
            "align_self": null,
            "height": null,
            "min_height": null,
            "padding": null,
            "grid_auto_rows": null,
            "grid_gap": null,
            "max_width": null,
            "order": null,
            "_view_module_version": "1.2.0",
            "grid_template_areas": null,
            "object_position": null,
            "object_fit": null,
            "grid_auto_columns": null,
            "margin": null,
            "display": null,
            "left": null
          }
        },
        "7c2c52626ad1463dbe13a59d60f4fd39": {
          "model_module": "@jupyter-widgets/controls",
          "model_name": "SliderStyleModel",
          "state": {
            "_view_name": "StyleView",
            "handle_color": null,
            "_model_name": "SliderStyleModel",
            "description_width": "",
            "_view_module": "@jupyter-widgets/base",
            "_model_module_version": "1.5.0",
            "_view_count": null,
            "_view_module_version": "1.2.0",
            "_model_module": "@jupyter-widgets/controls"
          }
        },
        "2096980a7c9143269b2865cf60159fb2": {
          "model_module": "@jupyter-widgets/base",
          "model_name": "LayoutModel",
          "state": {
            "_view_name": "LayoutView",
            "grid_template_rows": null,
            "right": null,
            "justify_content": null,
            "_view_module": "@jupyter-widgets/base",
            "overflow": null,
            "_model_module_version": "1.2.0",
            "_view_count": null,
            "flex_flow": null,
            "width": null,
            "min_width": null,
            "border": null,
            "align_items": null,
            "bottom": null,
            "_model_module": "@jupyter-widgets/base",
            "top": null,
            "grid_column": null,
            "overflow_y": null,
            "overflow_x": null,
            "grid_auto_flow": null,
            "grid_area": null,
            "grid_template_columns": null,
            "flex": null,
            "_model_name": "LayoutModel",
            "justify_items": null,
            "grid_row": null,
            "max_height": null,
            "align_content": null,
            "visibility": null,
            "align_self": null,
            "height": null,
            "min_height": null,
            "padding": null,
            "grid_auto_rows": null,
            "grid_gap": null,
            "max_width": null,
            "order": null,
            "_view_module_version": "1.2.0",
            "grid_template_areas": null,
            "object_position": null,
            "object_fit": null,
            "grid_auto_columns": null,
            "margin": null,
            "display": null,
            "left": null
          }
        },
        "49738ae40db04a9ab10a31fa5948131d": {
          "model_module": "@jupyter-widgets/controls",
          "model_name": "ButtonStyleModel",
          "state": {
            "_view_name": "StyleView",
            "_model_name": "ButtonStyleModel",
            "_view_module": "@jupyter-widgets/base",
            "_model_module_version": "1.5.0",
            "_view_count": null,
            "button_color": null,
            "font_weight": "",
            "_view_module_version": "1.2.0",
            "_model_module": "@jupyter-widgets/controls"
          }
        },
        "f4a9623ec77340009e1011673dafee19": {
          "model_module": "@jupyter-widgets/base",
          "model_name": "LayoutModel",
          "state": {
            "_view_name": "LayoutView",
            "grid_template_rows": null,
            "right": null,
            "justify_content": null,
            "_view_module": "@jupyter-widgets/base",
            "overflow": null,
            "_model_module_version": "1.2.0",
            "_view_count": null,
            "flex_flow": null,
            "width": null,
            "min_width": null,
            "border": null,
            "align_items": null,
            "bottom": null,
            "_model_module": "@jupyter-widgets/base",
            "top": null,
            "grid_column": null,
            "overflow_y": null,
            "overflow_x": null,
            "grid_auto_flow": null,
            "grid_area": null,
            "grid_template_columns": null,
            "flex": null,
            "_model_name": "LayoutModel",
            "justify_items": null,
            "grid_row": null,
            "max_height": null,
            "align_content": null,
            "visibility": null,
            "align_self": null,
            "height": null,
            "min_height": null,
            "padding": null,
            "grid_auto_rows": null,
            "grid_gap": null,
            "max_width": null,
            "order": null,
            "_view_module_version": "1.2.0",
            "grid_template_areas": null,
            "object_position": null,
            "object_fit": null,
            "grid_auto_columns": null,
            "margin": null,
            "display": null,
            "left": null
          }
        },
        "3e7e6cd09c3c42b9b98643eed3be02b6": {
          "model_module": "@jupyter-widgets/base",
          "model_name": "LayoutModel",
          "state": {
            "_view_name": "LayoutView",
            "grid_template_rows": null,
            "right": null,
            "justify_content": null,
            "_view_module": "@jupyter-widgets/base",
            "overflow": null,
            "_model_module_version": "1.2.0",
            "_view_count": null,
            "flex_flow": null,
            "width": null,
            "min_width": null,
            "border": null,
            "align_items": null,
            "bottom": null,
            "_model_module": "@jupyter-widgets/base",
            "top": null,
            "grid_column": null,
            "overflow_y": null,
            "overflow_x": null,
            "grid_auto_flow": null,
            "grid_area": null,
            "grid_template_columns": null,
            "flex": null,
            "_model_name": "LayoutModel",
            "justify_items": null,
            "grid_row": null,
            "max_height": null,
            "align_content": null,
            "visibility": null,
            "align_self": null,
            "height": null,
            "min_height": null,
            "padding": null,
            "grid_auto_rows": null,
            "grid_gap": null,
            "max_width": null,
            "order": null,
            "_view_module_version": "1.2.0",
            "grid_template_areas": null,
            "object_position": null,
            "object_fit": null,
            "grid_auto_columns": null,
            "margin": null,
            "display": null,
            "left": null
          }
        },
        "772de2df87df4726818a623deb8963a4": {
          "model_module": "@jupyter-widgets/controls",
          "model_name": "VBoxModel",
          "state": {
            "_view_name": "VBoxView",
            "_dom_classes": [
              "widget-interact"
            ],
            "_model_name": "VBoxModel",
            "_view_module": "@jupyter-widgets/controls",
            "_model_module_version": "1.5.0",
            "_view_count": null,
            "_view_module_version": "1.5.0",
            "box_style": "",
            "layout": "IPY_MODEL_0ca6291953e94482851a02fe5afceb76",
            "_model_module": "@jupyter-widgets/controls",
            "children": [
              "IPY_MODEL_9b7c8f3ea13345b180c5b289f10f3d7c",
              "IPY_MODEL_69569c46ec494ec0aecf32fc58a2d298",
              "IPY_MODEL_7076eb51277c49d89ac987f7ce42a452"
            ]
          }
        },
        "0ca6291953e94482851a02fe5afceb76": {
          "model_module": "@jupyter-widgets/base",
          "model_name": "LayoutModel",
          "state": {
            "_view_name": "LayoutView",
            "grid_template_rows": null,
            "right": null,
            "justify_content": null,
            "_view_module": "@jupyter-widgets/base",
            "overflow": null,
            "_model_module_version": "1.2.0",
            "_view_count": null,
            "flex_flow": null,
            "width": null,
            "min_width": null,
            "border": null,
            "align_items": null,
            "bottom": null,
            "_model_module": "@jupyter-widgets/base",
            "top": null,
            "grid_column": null,
            "overflow_y": null,
            "overflow_x": null,
            "grid_auto_flow": null,
            "grid_area": null,
            "grid_template_columns": null,
            "flex": null,
            "_model_name": "LayoutModel",
            "justify_items": null,
            "grid_row": null,
            "max_height": null,
            "align_content": null,
            "visibility": null,
            "align_self": null,
            "height": null,
            "min_height": null,
            "padding": null,
            "grid_auto_rows": null,
            "grid_gap": null,
            "max_width": null,
            "order": null,
            "_view_module_version": "1.2.0",
            "grid_template_areas": null,
            "object_position": null,
            "object_fit": null,
            "grid_auto_columns": null,
            "margin": null,
            "display": null,
            "left": null
          }
        },
        "9b7c8f3ea13345b180c5b289f10f3d7c": {
          "model_module": "@jupyter-widgets/controls",
          "model_name": "DropdownModel",
          "state": {
            "_options_labels": [
              "Brand",
              "Rating",
              "Review_Count",
              "Flavor_Rating",
              "Flavor",
              "Size",
              "Servings",
              "Scoop_Size",
              "Available_Sizes",
              "Available_Flavors",
              "product_type"
            ],
            "_view_name": "DropdownView",
            "style": "IPY_MODEL_9813c89c206745e2b976899cdc8955e4",
            "_dom_classes": [],
            "description": "columns",
            "_model_name": "DropdownModel",
            "index": 1,
            "_view_module": "@jupyter-widgets/controls",
            "_model_module_version": "1.5.0",
            "_view_count": null,
            "disabled": false,
            "_view_module_version": "1.5.0",
            "description_tooltip": null,
            "_model_module": "@jupyter-widgets/controls",
            "layout": "IPY_MODEL_32c62d01fe4c409a81235f55a9b49b76"
          }
        },
        "69569c46ec494ec0aecf32fc58a2d298": {
          "model_module": "@jupyter-widgets/controls",
          "model_name": "DropdownModel",
          "state": {
            "_options_labels": [
              "Brand",
              "Rating",
              "Review_Count",
              "Flavor_Rating",
              "Flavor",
              "Size",
              "Servings",
              "Scoop_Size",
              "Available_Sizes",
              "Available_Flavors",
              "product_type"
            ],
            "_view_name": "DropdownView",
            "style": "IPY_MODEL_e61c4cd16d494b8b9f3ca3cc2713eb0c",
            "_dom_classes": [],
            "description": "interact_index",
            "_model_name": "DropdownModel",
            "index": 5,
            "_view_module": "@jupyter-widgets/controls",
            "_model_module_version": "1.5.0",
            "_view_count": null,
            "disabled": false,
            "_view_module_version": "1.5.0",
            "description_tooltip": null,
            "_model_module": "@jupyter-widgets/controls",
            "layout": "IPY_MODEL_88e302adebef43ba873e8dc36ac0960f"
          }
        },
        "7076eb51277c49d89ac987f7ce42a452": {
          "model_module": "@jupyter-widgets/output",
          "model_name": "OutputModel",
          "state": {
            "_view_name": "OutputView",
            "msg_id": "",
            "_dom_classes": [],
            "_model_name": "OutputModel",
            "outputs": [
              {
                "output_type": "display_data",
                "metadata": {
                  "tags": [],
                  "needs_background": "light"
                },
                "image/png": "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\n",
                "text/plain": "<Figure size 540x360 with 2 Axes>"
              }
            ],
            "_view_module": "@jupyter-widgets/output",
            "_model_module_version": "1.0.0",
            "_view_count": null,
            "_view_module_version": "1.0.0",
            "layout": "IPY_MODEL_59a9a9a5709a4d30a8a73e4c34a78454",
            "_model_module": "@jupyter-widgets/output"
          }
        },
        "9813c89c206745e2b976899cdc8955e4": {
          "model_module": "@jupyter-widgets/controls",
          "model_name": "DescriptionStyleModel",
          "state": {
            "_view_name": "StyleView",
            "_model_name": "DescriptionStyleModel",
            "description_width": "",
            "_view_module": "@jupyter-widgets/base",
            "_model_module_version": "1.5.0",
            "_view_count": null,
            "_view_module_version": "1.2.0",
            "_model_module": "@jupyter-widgets/controls"
          }
        },
        "32c62d01fe4c409a81235f55a9b49b76": {
          "model_module": "@jupyter-widgets/base",
          "model_name": "LayoutModel",
          "state": {
            "_view_name": "LayoutView",
            "grid_template_rows": null,
            "right": null,
            "justify_content": null,
            "_view_module": "@jupyter-widgets/base",
            "overflow": null,
            "_model_module_version": "1.2.0",
            "_view_count": null,
            "flex_flow": null,
            "width": null,
            "min_width": null,
            "border": null,
            "align_items": null,
            "bottom": null,
            "_model_module": "@jupyter-widgets/base",
            "top": null,
            "grid_column": null,
            "overflow_y": null,
            "overflow_x": null,
            "grid_auto_flow": null,
            "grid_area": null,
            "grid_template_columns": null,
            "flex": null,
            "_model_name": "LayoutModel",
            "justify_items": null,
            "grid_row": null,
            "max_height": null,
            "align_content": null,
            "visibility": null,
            "align_self": null,
            "height": null,
            "min_height": null,
            "padding": null,
            "grid_auto_rows": null,
            "grid_gap": null,
            "max_width": null,
            "order": null,
            "_view_module_version": "1.2.0",
            "grid_template_areas": null,
            "object_position": null,
            "object_fit": null,
            "grid_auto_columns": null,
            "margin": null,
            "display": null,
            "left": null
          }
        },
        "e61c4cd16d494b8b9f3ca3cc2713eb0c": {
          "model_module": "@jupyter-widgets/controls",
          "model_name": "DescriptionStyleModel",
          "state": {
            "_view_name": "StyleView",
            "_model_name": "DescriptionStyleModel",
            "description_width": "",
            "_view_module": "@jupyter-widgets/base",
            "_model_module_version": "1.5.0",
            "_view_count": null,
            "_view_module_version": "1.2.0",
            "_model_module": "@jupyter-widgets/controls"
          }
        },
        "88e302adebef43ba873e8dc36ac0960f": {
          "model_module": "@jupyter-widgets/base",
          "model_name": "LayoutModel",
          "state": {
            "_view_name": "LayoutView",
            "grid_template_rows": null,
            "right": null,
            "justify_content": null,
            "_view_module": "@jupyter-widgets/base",
            "overflow": null,
            "_model_module_version": "1.2.0",
            "_view_count": null,
            "flex_flow": null,
            "width": null,
            "min_width": null,
            "border": null,
            "align_items": null,
            "bottom": null,
            "_model_module": "@jupyter-widgets/base",
            "top": null,
            "grid_column": null,
            "overflow_y": null,
            "overflow_x": null,
            "grid_auto_flow": null,
            "grid_area": null,
            "grid_template_columns": null,
            "flex": null,
            "_model_name": "LayoutModel",
            "justify_items": null,
            "grid_row": null,
            "max_height": null,
            "align_content": null,
            "visibility": null,
            "align_self": null,
            "height": null,
            "min_height": null,
            "padding": null,
            "grid_auto_rows": null,
            "grid_gap": null,
            "max_width": null,
            "order": null,
            "_view_module_version": "1.2.0",
            "grid_template_areas": null,
            "object_position": null,
            "object_fit": null,
            "grid_auto_columns": null,
            "margin": null,
            "display": null,
            "left": null
          }
        },
        "59a9a9a5709a4d30a8a73e4c34a78454": {
          "model_module": "@jupyter-widgets/base",
          "model_name": "LayoutModel",
          "state": {
            "_view_name": "LayoutView",
            "grid_template_rows": null,
            "right": null,
            "justify_content": null,
            "_view_module": "@jupyter-widgets/base",
            "overflow": null,
            "_model_module_version": "1.2.0",
            "_view_count": null,
            "flex_flow": null,
            "width": null,
            "min_width": null,
            "border": null,
            "align_items": null,
            "bottom": null,
            "_model_module": "@jupyter-widgets/base",
            "top": null,
            "grid_column": null,
            "overflow_y": null,
            "overflow_x": null,
            "grid_auto_flow": null,
            "grid_area": null,
            "grid_template_columns": null,
            "flex": null,
            "_model_name": "LayoutModel",
            "justify_items": null,
            "grid_row": null,
            "max_height": null,
            "align_content": null,
            "visibility": null,
            "align_self": null,
            "height": null,
            "min_height": null,
            "padding": null,
            "grid_auto_rows": null,
            "grid_gap": null,
            "max_width": null,
            "order": null,
            "_view_module_version": "1.2.0",
            "grid_template_areas": null,
            "object_position": null,
            "object_fit": null,
            "grid_auto_columns": null,
            "margin": null,
            "display": null,
            "left": null
          }
        }
      }
    }
  },
  "cells": [
    {
      "cell_type": "markdown",
      "metadata": {
        "id": "tAxBrGeJ-wUA",
        "colab_type": "text"
      },
      "source": [
        "## ***INTORDUCTION***\n",
        "   Fitness is a huge industry in today's date and everyone nowadays wants to stay healthy and be fit. Most people we know use some kind of supplements be it proteins or vitamins,etc. The supplement industry has insane amount of revenue and the supplement companies have varied products depending on your goals for your body,thus making it a lucrative market.\n",
        "\n",
        "## ***PROBLEM DEFINITION***\n",
        "\n",
        "So here's the catch, for an average person purchasing supplements is sometimes costly and many a times he/she wonder why are supplement's so costly?\n",
        "\n",
        "***What are the things that make them costly? i.e which factors dictate the cost price ?***  \n",
        "This is what we are going to explore in this notebook using Data Analysis and use a machine Learning models to try and predict the prices. \n",
        "\n",
        "\n",
        "\n",
        "\n",
        "\n"
      ]
    },
    {
      "cell_type": "code",
      "metadata": {
        "id": "5y3WmfD3rxQ_",
        "colab_type": "code",
        "outputId": "24ad9d19-f5c3-405a-ed95-191dbb1868d3",
        "colab": {
          "base_uri": "https://localhost:8080/",
          "height": 72
        }
      },
      "source": [
        "import pandas as pd\n",
        "import numpy as np\n",
        "import matplotlib.pyplot as plt\n",
        "from matplotlib import cm\n",
        "import ipywidgets as widgets\n",
        "from ipywidgets import interact, interact_manual\n",
        "\n",
        "import seaborn as sns\n",
        "import gc\n",
        "import re\n",
        "\n",
        "\n",
        "%matplotlib inline\n",
        "#sns.set_style('darkgrid')\n",
        "#sns.set(rc={'figure.figsize':(15,15)})\n",
        "pd.options.display.max_rows = None\n",
        "pd.options.display.max_columns = None\n",
        "\n"
      ],
      "execution_count": 1,
      "outputs": [
        {
          "output_type": "stream",
          "text": [
            "/usr/local/lib/python3.6/dist-packages/statsmodels/tools/_testing.py:19: FutureWarning: pandas.util.testing is deprecated. Use the functions in the public API at pandas.testing instead.\n",
            "  import pandas.util.testing as tm\n"
          ],
          "name": "stderr"
        }
      ]
    },
    {
      "cell_type": "markdown",
      "metadata": {
        "id": "r3mLJUKvBtYq",
        "colab_type": "text"
      },
      "source": [
        "## ***About the Dataset***\n",
        "\n",
        "I have collected data form bodybuilding.com about two kinds of products. They are as follows:-\n",
        "* ***Proteins*** : This is a general category which includes various kinds of protein powder like whey, whey isloate, casein,etc\n",
        "* ***Workout Boosters*** : This is also a general cateogry encompassing workout boosters like creatine, pre-workout, BCAA's,etc\n",
        "\n",
        "***The data has the follwing columns:***\n",
        "\n",
        "\n",
        "1.   **Product**: The products name.\n",
        "2.   **Brand**: The brand which has created the product and markets it.\n",
        "3.   **Price**: The price of the product\n",
        "4.   **Rating** : The rating given by the users\n",
        "5. **Review Count**: The number of reviews for that product\n",
        "6. **Flavor Rating** : The rating for that product\n",
        "7. **Flavor**: The flavor for that product\n",
        "8. **Size** : The size of the container \n",
        "9. **Servings** : The amount of scoop servings the person can have.\n",
        "10. **Scoop Size** : The size of single scoop\n",
        "11. **Avaiable Size**: The number of available sizes for the product\n",
        "12. **Available Flavors** : The number available flavors that are currently avaiable for the product. \n",
        "\n"
      ]
    },
    {
      "cell_type": "code",
      "metadata": {
        "id": "3PVjepnqr7sD",
        "colab_type": "code",
        "colab": {}
      },
      "source": [
        "#Importing the data\n",
        "proteins = pd.read_csv('/content/drive/My Drive/Supplement Predictions/Protein_powder.csv')\n",
        "improve_workouts = pd.read_csv('/content/drive/My Drive/Supplement Predictions/Improve_workouts.csv')\n"
      ],
      "execution_count": 0,
      "outputs": []
    },
    {
      "cell_type": "markdown",
      "metadata": {
        "id": "mlbzXMCbEuIQ",
        "colab_type": "text"
      },
      "source": [
        "### Before moving out to cleaning and analysis I'm going to add a feature called 'Product_type' which will tell whether the product is a 'Protein' product or a 'workout booster' "
      ]
    },
    {
      "cell_type": "code",
      "metadata": {
        "id": "KE_AYm3BFJ1o",
        "colab_type": "code",
        "colab": {}
      },
      "source": [
        "proteins['product_type'] = 'protein'\n",
        "improve_workouts['product_type'] = 'workout_booster'"
      ],
      "execution_count": 0,
      "outputs": []
    },
    {
      "cell_type": "code",
      "metadata": {
        "id": "BFHhZ5hY6-8d",
        "colab_type": "code",
        "colab": {}
      },
      "source": [
        "#Concatenating both the files\n",
        "data_df = pd.concat([proteins , improve_workouts]).reset_index(drop = True)"
      ],
      "execution_count": 0,
      "outputs": []
    },
    {
      "cell_type": "code",
      "metadata": {
        "id": "BDI4kvOMwwym",
        "colab_type": "code",
        "outputId": "c095fc4a-7370-4b98-f825-b64bf2c9d69b",
        "colab": {
          "base_uri": "https://localhost:8080/",
          "height": 364
        }
      },
      "source": [
        "data_df.head()"
      ],
      "execution_count": 5,
      "outputs": [
        {
          "output_type": "execute_result",
          "data": {
            "text/html": [
              "<div>\n",
              "<style scoped>\n",
              "    .dataframe tbody tr th:only-of-type {\n",
              "        vertical-align: middle;\n",
              "    }\n",
              "\n",
              "    .dataframe tbody tr th {\n",
              "        vertical-align: top;\n",
              "    }\n",
              "\n",
              "    .dataframe thead th {\n",
              "        text-align: right;\n",
              "    }\n",
              "</style>\n",
              "<table border=\"1\" class=\"dataframe\">\n",
              "  <thead>\n",
              "    <tr style=\"text-align: right;\">\n",
              "      <th></th>\n",
              "      <th>Product</th>\n",
              "      <th>Brand</th>\n",
              "      <th>Price</th>\n",
              "      <th>Rating</th>\n",
              "      <th>Review_Count</th>\n",
              "      <th>Flavor_Rating</th>\n",
              "      <th>Flavor</th>\n",
              "      <th>Size</th>\n",
              "      <th>Servings</th>\n",
              "      <th>Scoop_Size</th>\n",
              "      <th>Available_Sizes</th>\n",
              "      <th>Available_Flavors</th>\n",
              "      <th>product_type</th>\n",
              "    </tr>\n",
              "  </thead>\n",
              "  <tbody>\n",
              "    <tr>\n",
              "      <th>0</th>\n",
              "      <td>Gold Standard 100% Whey Protein</td>\n",
              "      <td>Optimum Nutrition</td>\n",
              "      <td>47.99</td>\n",
              "      <td>9.3</td>\n",
              "      <td>10029</td>\n",
              "      <td>9.1</td>\n",
              "      <td>Extreme Milk Chocolate</td>\n",
              "      <td>5 Lbs.</td>\n",
              "      <td>Servings Per Container71</td>\n",
              "      <td>Serving Size About 1 Scoop (32 grams)</td>\n",
              "      <td>5.0</td>\n",
              "      <td>18.0</td>\n",
              "      <td>protein</td>\n",
              "    </tr>\n",
              "    <tr>\n",
              "      <th>1</th>\n",
              "      <td>Pro JYM Protein Powder</td>\n",
              "      <td>JYM Supplement Science</td>\n",
              "      <td>46.98</td>\n",
              "      <td>9.2</td>\n",
              "      <td>2727</td>\n",
              "      <td>9.0</td>\n",
              "      <td>Chocolate Cookie Crunch</td>\n",
              "      <td>4 Lbs.</td>\n",
              "      <td>Servings Per Container: About 45</td>\n",
              "      <td>Serving Size: 1 Scoop (40g)</td>\n",
              "      <td>4.0</td>\n",
              "      <td>7.0</td>\n",
              "      <td>protein</td>\n",
              "    </tr>\n",
              "    <tr>\n",
              "      <th>2</th>\n",
              "      <td>Signature 100% Whey Protein Powder</td>\n",
              "      <td>Bodybuilding.com Signature</td>\n",
              "      <td>37.49</td>\n",
              "      <td>8.8</td>\n",
              "      <td>668</td>\n",
              "      <td>8.9</td>\n",
              "      <td>Oatmeal Cookie</td>\n",
              "      <td>5 Lbs.</td>\n",
              "      <td>Servings Per Container66</td>\n",
              "      <td>Serving Size 1 Scoop (34g)</td>\n",
              "      <td>2.0</td>\n",
              "      <td>5.0</td>\n",
              "      <td>protein</td>\n",
              "    </tr>\n",
              "    <tr>\n",
              "      <th>3</th>\n",
              "      <td>Gold Standard 100% Whey Protein</td>\n",
              "      <td>Optimum Nutrition</td>\n",
              "      <td>22.49</td>\n",
              "      <td>9.3</td>\n",
              "      <td>10029</td>\n",
              "      <td>9.1</td>\n",
              "      <td>Extreme Milk Chocolate</td>\n",
              "      <td>2 Lbs.</td>\n",
              "      <td>Servings Per Container28</td>\n",
              "      <td>Serving Size About 1 Scoop (32 g)</td>\n",
              "      <td>5.0</td>\n",
              "      <td>19.0</td>\n",
              "      <td>protein</td>\n",
              "    </tr>\n",
              "    <tr>\n",
              "      <th>4</th>\n",
              "      <td>Syntha-6 Whey Protein Powder</td>\n",
              "      <td>BSN</td>\n",
              "      <td>36.74</td>\n",
              "      <td>9.2</td>\n",
              "      <td>3966</td>\n",
              "      <td>9.4</td>\n",
              "      <td>Chocolate Peanut Butter</td>\n",
              "      <td>5 Lbs.</td>\n",
              "      <td>Servings Per Container48</td>\n",
              "      <td>Serving Size About 1 Scoop (47g)</td>\n",
              "      <td>5.0</td>\n",
              "      <td>7.0</td>\n",
              "      <td>protein</td>\n",
              "    </tr>\n",
              "  </tbody>\n",
              "</table>\n",
              "</div>"
            ],
            "text/plain": [
              "                              Product                       Brand  Price  \\\n",
              "0     Gold Standard 100% Whey Protein           Optimum Nutrition  47.99   \n",
              "1              Pro JYM Protein Powder      JYM Supplement Science  46.98   \n",
              "2  Signature 100% Whey Protein Powder  Bodybuilding.com Signature  37.49   \n",
              "3     Gold Standard 100% Whey Protein           Optimum Nutrition  22.49   \n",
              "4        Syntha-6 Whey Protein Powder                         BSN  36.74   \n",
              "\n",
              "   Rating  Review_Count  Flavor_Rating                   Flavor    Size  \\\n",
              "0     9.3         10029            9.1   Extreme Milk Chocolate  5 Lbs.   \n",
              "1     9.2          2727            9.0  Chocolate Cookie Crunch  4 Lbs.   \n",
              "2     8.8           668            8.9           Oatmeal Cookie  5 Lbs.   \n",
              "3     9.3         10029            9.1   Extreme Milk Chocolate  2 Lbs.   \n",
              "4     9.2          3966            9.4  Chocolate Peanut Butter  5 Lbs.   \n",
              "\n",
              "                           Servings                             Scoop_Size  \\\n",
              "0          Servings Per Container71  Serving Size About 1 Scoop (32 grams)   \n",
              "1  Servings Per Container: About 45            Serving Size: 1 Scoop (40g)   \n",
              "2          Servings Per Container66             Serving Size 1 Scoop (34g)   \n",
              "3          Servings Per Container28      Serving Size About 1 Scoop (32 g)   \n",
              "4          Servings Per Container48       Serving Size About 1 Scoop (47g)   \n",
              "\n",
              "   Available_Sizes  Available_Flavors product_type  \n",
              "0              5.0               18.0      protein  \n",
              "1              4.0                7.0      protein  \n",
              "2              2.0                5.0      protein  \n",
              "3              5.0               19.0      protein  \n",
              "4              5.0                7.0      protein  "
            ]
          },
          "metadata": {
            "tags": []
          },
          "execution_count": 5
        }
      ]
    },
    {
      "cell_type": "code",
      "metadata": {
        "id": "FjK2qyy7FIRi",
        "colab_type": "code",
        "outputId": "43a958f8-060a-4d93-e273-c8b5c87ed003",
        "colab": {
          "base_uri": "https://localhost:8080/",
          "height": 34
        }
      },
      "source": [
        "data_df.shape"
      ],
      "execution_count": 6,
      "outputs": [
        {
          "output_type": "execute_result",
          "data": {
            "text/plain": [
              "(615, 13)"
            ]
          },
          "metadata": {
            "tags": []
          },
          "execution_count": 6
        }
      ]
    },
    {
      "cell_type": "code",
      "metadata": {
        "id": "YALtzflvw6og",
        "colab_type": "code",
        "outputId": "fe5203db-10af-4e1f-9654-1d242abe9db6",
        "colab": {
          "base_uri": "https://localhost:8080/",
          "height": 372
        }
      },
      "source": [
        "data_df.info()"
      ],
      "execution_count": 7,
      "outputs": [
        {
          "output_type": "stream",
          "text": [
            "<class 'pandas.core.frame.DataFrame'>\n",
            "RangeIndex: 615 entries, 0 to 614\n",
            "Data columns (total 13 columns):\n",
            " #   Column             Non-Null Count  Dtype  \n",
            "---  ------             --------------  -----  \n",
            " 0   Product            615 non-null    object \n",
            " 1   Brand              615 non-null    object \n",
            " 2   Price              615 non-null    float64\n",
            " 3   Rating             577 non-null    float64\n",
            " 4   Review_Count       615 non-null    int64  \n",
            " 5   Flavor_Rating      528 non-null    float64\n",
            " 6   Flavor             609 non-null    object \n",
            " 7   Size               609 non-null    object \n",
            " 8   Servings           615 non-null    object \n",
            " 9   Scoop_Size         615 non-null    object \n",
            " 10  Available_Sizes    609 non-null    float64\n",
            " 11  Available_Flavors  609 non-null    float64\n",
            " 12  product_type       615 non-null    object \n",
            "dtypes: float64(5), int64(1), object(7)\n",
            "memory usage: 62.6+ KB\n"
          ],
          "name": "stdout"
        }
      ]
    },
    {
      "cell_type": "code",
      "metadata": {
        "id": "gk3YT6YVw-qT",
        "colab_type": "code",
        "outputId": "98417cf7-b44c-43d5-c753-734530f44caa",
        "colab": {
          "base_uri": "https://localhost:8080/",
          "height": 287
        }
      },
      "source": [
        "data_df.describe()"
      ],
      "execution_count": 8,
      "outputs": [
        {
          "output_type": "execute_result",
          "data": {
            "text/html": [
              "<div>\n",
              "<style scoped>\n",
              "    .dataframe tbody tr th:only-of-type {\n",
              "        vertical-align: middle;\n",
              "    }\n",
              "\n",
              "    .dataframe tbody tr th {\n",
              "        vertical-align: top;\n",
              "    }\n",
              "\n",
              "    .dataframe thead th {\n",
              "        text-align: right;\n",
              "    }\n",
              "</style>\n",
              "<table border=\"1\" class=\"dataframe\">\n",
              "  <thead>\n",
              "    <tr style=\"text-align: right;\">\n",
              "      <th></th>\n",
              "      <th>Price</th>\n",
              "      <th>Rating</th>\n",
              "      <th>Review_Count</th>\n",
              "      <th>Flavor_Rating</th>\n",
              "      <th>Available_Sizes</th>\n",
              "      <th>Available_Flavors</th>\n",
              "    </tr>\n",
              "  </thead>\n",
              "  <tbody>\n",
              "    <tr>\n",
              "      <th>count</th>\n",
              "      <td>615.000000</td>\n",
              "      <td>577.00000</td>\n",
              "      <td>615.000000</td>\n",
              "      <td>528.000000</td>\n",
              "      <td>609.000000</td>\n",
              "      <td>609.000000</td>\n",
              "    </tr>\n",
              "    <tr>\n",
              "      <th>mean</th>\n",
              "      <td>39.102650</td>\n",
              "      <td>8.79792</td>\n",
              "      <td>456.066667</td>\n",
              "      <td>8.755682</td>\n",
              "      <td>2.070608</td>\n",
              "      <td>2.807882</td>\n",
              "    </tr>\n",
              "    <tr>\n",
              "      <th>std</th>\n",
              "      <td>19.395112</td>\n",
              "      <td>0.98617</td>\n",
              "      <td>1122.534586</td>\n",
              "      <td>1.379783</td>\n",
              "      <td>1.223377</td>\n",
              "      <td>2.319299</td>\n",
              "    </tr>\n",
              "    <tr>\n",
              "      <th>min</th>\n",
              "      <td>3.990000</td>\n",
              "      <td>1.00000</td>\n",
              "      <td>0.000000</td>\n",
              "      <td>1.000000</td>\n",
              "      <td>1.000000</td>\n",
              "      <td>1.000000</td>\n",
              "    </tr>\n",
              "    <tr>\n",
              "      <th>25%</th>\n",
              "      <td>26.390000</td>\n",
              "      <td>8.50000</td>\n",
              "      <td>12.000000</td>\n",
              "      <td>8.400000</td>\n",
              "      <td>1.000000</td>\n",
              "      <td>1.000000</td>\n",
              "    </tr>\n",
              "    <tr>\n",
              "      <th>50%</th>\n",
              "      <td>35.240000</td>\n",
              "      <td>9.00000</td>\n",
              "      <td>55.000000</td>\n",
              "      <td>9.000000</td>\n",
              "      <td>2.000000</td>\n",
              "      <td>2.000000</td>\n",
              "    </tr>\n",
              "    <tr>\n",
              "      <th>75%</th>\n",
              "      <td>47.985000</td>\n",
              "      <td>9.30000</td>\n",
              "      <td>341.000000</td>\n",
              "      <td>9.600000</td>\n",
              "      <td>3.000000</td>\n",
              "      <td>4.000000</td>\n",
              "    </tr>\n",
              "    <tr>\n",
              "      <th>max</th>\n",
              "      <td>151.990000</td>\n",
              "      <td>10.00000</td>\n",
              "      <td>10029.000000</td>\n",
              "      <td>10.000000</td>\n",
              "      <td>6.000000</td>\n",
              "      <td>19.000000</td>\n",
              "    </tr>\n",
              "  </tbody>\n",
              "</table>\n",
              "</div>"
            ],
            "text/plain": [
              "            Price     Rating  Review_Count  Flavor_Rating  Available_Sizes  \\\n",
              "count  615.000000  577.00000    615.000000     528.000000       609.000000   \n",
              "mean    39.102650    8.79792    456.066667       8.755682         2.070608   \n",
              "std     19.395112    0.98617   1122.534586       1.379783         1.223377   \n",
              "min      3.990000    1.00000      0.000000       1.000000         1.000000   \n",
              "25%     26.390000    8.50000     12.000000       8.400000         1.000000   \n",
              "50%     35.240000    9.00000     55.000000       9.000000         2.000000   \n",
              "75%     47.985000    9.30000    341.000000       9.600000         3.000000   \n",
              "max    151.990000   10.00000  10029.000000      10.000000         6.000000   \n",
              "\n",
              "       Available_Flavors  \n",
              "count         609.000000  \n",
              "mean            2.807882  \n",
              "std             2.319299  \n",
              "min             1.000000  \n",
              "25%             1.000000  \n",
              "50%             2.000000  \n",
              "75%             4.000000  \n",
              "max            19.000000  "
            ]
          },
          "metadata": {
            "tags": []
          },
          "execution_count": 8
        }
      ]
    },
    {
      "cell_type": "markdown",
      "metadata": {
        "id": "9lJHDkg5Itcm",
        "colab_type": "text"
      },
      "source": [
        "* Yes there are missing values. Even missing values may have some meaning for ex the columns 'Flavor_Rating' has the most missing values, this  maybe because people haven't tasted the product or the columns 'Review_count' has missing values indicating that the product maybe new on the website. \n",
        "\n",
        "* Flavor,Size,Available_Sizes,Available_Flavors have 609 out of 615 entries I have a hunch that the scraper has collected some dummy data, actually it has you can see it excel sheet."
      ]
    },
    {
      "cell_type": "code",
      "metadata": {
        "id": "3BpkxLM_KC-i",
        "colab_type": "code",
        "colab": {}
      },
      "source": [
        "#Drop the columns where flavor , size , available_size and avaialble flavors are missing\n",
        "data_df = data_df.dropna(how = 'any' , subset = ['Flavor','Size','Available_Sizes','Available_Flavors']).reset_index(drop = True)"
      ],
      "execution_count": 0,
      "outputs": []
    },
    {
      "cell_type": "markdown",
      "metadata": {
        "id": "g-IOfCA_mXbg",
        "colab_type": "text"
      },
      "source": [
        "### ***Data Cleaning and EDA***\n",
        "\n",
        "* First we are going to clean Servings, Scoop_Size and Size columns. These columns have sentences and we are going to extract numerical values out of it.\n",
        "* Next up we are going to perform analysis on the cleaned data but we will drop the rows with Nan or missing values for our analysis."
      ]
    },
    {
      "cell_type": "code",
      "metadata": {
        "id": "UFj-kZtHZOSW",
        "colab_type": "code",
        "colab": {}
      },
      "source": [
        "def find_servings(x):\n",
        "\n",
        "    ''' This function extracts numerical values of amount of servings per container'''\n",
        "    ptr = r'(\\d*\\.?\\d+)'\n",
        "    return float(re.findall(ptr,x)[0])\n"
      ],
      "execution_count": 0,
      "outputs": []
    },
    {
      "cell_type": "code",
      "metadata": {
        "id": "JCbMAx3YhjNZ",
        "colab_type": "code",
        "colab": {}
      },
      "source": [
        "def remove_words(x):\n",
        "\n",
        "    ''' A function to remove irrelevant words in entries of Scoop Size column'''\n",
        "    \n",
        "    return x.lower().replace(' ' ,'').replace('one' ,'1').replace('two' ,'2').replace('three' ,'3') \\\n",
        "        .replace('grams','g').replace('serving','').replace('approximate','') \\\n",
        "        .replace('level','').replace('rounded','').replace('approx.','').replace('scoops','scoop')\n",
        "\n",
        "def Get_scoop_amt(x):\n",
        "\n",
        "    '''This function calculates the scoop amount from the entries'''\n",
        "\n",
        "    ptr = r'(\\d*\\.?\\d+)([a-z]+)'\n",
        "    x = remove_words(x)\n",
        "    matches = re.findall(ptr, x)\n",
        "    \n",
        "    if len(matches)  == 1 and 'scoop' in matches[0]:\n",
        "        return float(matches[0][0])*1.0\n",
        "    elif len(matches) > 1:\n",
        "        if 'g' in matches[0] :\n",
        "            return float(matches[0][0])\n",
        "            \n",
        "        else:\n",
        "             return float(matches[1][0])\n",
        "            \n",
        "        \n",
        "    \n",
        "    "
      ],
      "execution_count": 0,
      "outputs": []
    },
    {
      "cell_type": "code",
      "metadata": {
        "id": "gfIDwDNtPy6V",
        "colab_type": "code",
        "colab": {}
      },
      "source": [
        "def find_size(df):\n",
        "\n",
        "    '''This function finds the actual sizes of the containers by multiplying scoop_size*servings'''\n",
        "\n",
        "    for idx,x in enumerate(df[\"Size\"]):\n",
        "        if x.lower().find('servings') or x.lower.find('serving'):\n",
        "            df.loc[idx,'Size'] = float(0.00220462*(df.loc[idx,'Servings']*df.loc[idx,'Scoop_Size']))\n",
        "    \n",
        "        else:\n",
        "            df.loc[idx,'Size'] = calc_size(x)\n",
        "    return df.reset_index(drop = True)\n",
        "\n",
        "\n",
        "def calc_size(x):\n",
        "    \n",
        "    ''' This function converts the values of entries in the size column to pounds'''\n",
        "\n",
        "    x = x.lower().replace('grams' ,'gram')\n",
        "    pattern = ['oz.' ,'gram' ,'kilogram' ,'kg']\n",
        "    re_ptr = '\\d+'\n",
        "    for ptr in pattern:\n",
        "\n",
        "        if x.find(ptr) != -1:\n",
        "\n",
        "           \n",
        "            if ptr == pattern[0]:\n",
        "\n",
        "                return float(0.0625*(re.findall(re_ptr,x))[0])\n",
        "            \n",
        "            elif ptr == pattern[1]:\n",
        "\n",
        "                return float(0.00220462*(re.findall(re_ptr,x))[0])\n",
        "\n",
        "            elif ptr == pattern[2] or ptr == pattern[3]:\n",
        "                return float(2.20462*(re.findall(re_ptr , x))[0])   \n",
        "\n",
        "        else:\n",
        "\n",
        "            return float(re.findall(ptr,x)[0]) \n",
        "\n",
        "            \n"
      ],
      "execution_count": 0,
      "outputs": []
    },
    {
      "cell_type": "code",
      "metadata": {
        "id": "IhsDGRAXSN-G",
        "colab_type": "code",
        "colab": {}
      },
      "source": [
        "def clean_data(df):\n",
        "    df['Servings'] = df[\"Servings\"].apply(lambda x : find_servings(x))\n",
        "    df['Scoop_Size'] = df[\"Scoop_Size\"].apply(lambda x : Get_scoop_amt(x))\n",
        "    df = find_size(df)\n",
        "    df['Size'] = df['Size'].apply(lambda  x : float(x))\n",
        "    return df\n"
      ],
      "execution_count": 0,
      "outputs": []
    },
    {
      "cell_type": "code",
      "metadata": {
        "id": "9TPvGstaiUpy",
        "colab_type": "code",
        "colab": {}
      },
      "source": [
        "data_df = clean_data(data_df)"
      ],
      "execution_count": 0,
      "outputs": []
    },
    {
      "cell_type": "code",
      "metadata": {
        "id": "DJZvvCd-Z-OX",
        "colab_type": "code",
        "outputId": "e7d942a0-94b1-4dab-f6a4-bb45d6de4178",
        "colab": {
          "base_uri": "https://localhost:8080/",
          "height": 34
        }
      },
      "source": [
        "data_df = data_df.dropna(how = 'any')\n",
        "print(f\"Number of Rows after Cleaning : {data_df.shape[0]}\")"
      ],
      "execution_count": 15,
      "outputs": [
        {
          "output_type": "stream",
          "text": [
            "Number of Rows after Cleaning : 528\n"
          ],
          "name": "stdout"
        }
      ]
    },
    {
      "cell_type": "code",
      "metadata": {
        "id": "v-8fMpUkaNGy",
        "colab_type": "code",
        "outputId": "a326ffb8-3d73-46b9-c00a-bf5e47550463",
        "colab": {
          "base_uri": "https://localhost:8080/",
          "height": 372
        }
      },
      "source": [
        "data_df.info()"
      ],
      "execution_count": 16,
      "outputs": [
        {
          "output_type": "stream",
          "text": [
            "<class 'pandas.core.frame.DataFrame'>\n",
            "Int64Index: 528 entries, 0 to 607\n",
            "Data columns (total 13 columns):\n",
            " #   Column             Non-Null Count  Dtype  \n",
            "---  ------             --------------  -----  \n",
            " 0   Product            528 non-null    object \n",
            " 1   Brand              528 non-null    object \n",
            " 2   Price              528 non-null    float64\n",
            " 3   Rating             528 non-null    float64\n",
            " 4   Review_Count       528 non-null    int64  \n",
            " 5   Flavor_Rating      528 non-null    float64\n",
            " 6   Flavor             528 non-null    object \n",
            " 7   Size               528 non-null    float64\n",
            " 8   Servings           528 non-null    float64\n",
            " 9   Scoop_Size         528 non-null    float64\n",
            " 10  Available_Sizes    528 non-null    float64\n",
            " 11  Available_Flavors  528 non-null    float64\n",
            " 12  product_type       528 non-null    object \n",
            "dtypes: float64(8), int64(1), object(4)\n",
            "memory usage: 57.8+ KB\n"
          ],
          "name": "stdout"
        }
      ]
    },
    {
      "cell_type": "code",
      "metadata": {
        "id": "nTsfVLg44TsW",
        "colab_type": "code",
        "outputId": "a975964a-aaa4-4da8-bd65-b7502fc2c2ea",
        "colab": {
          "base_uri": "https://localhost:8080/",
          "height": 52
        }
      },
      "source": [
        "numeric_cols = data_df.select_dtypes(include=[np.number]).columns.to_list()\n",
        "categorical_cols = data_df.select_dtypes(exclude=[np.number]).columns.to_list()\n",
        "\n",
        "print(f\"Numeric Cols : {len(numeric_cols)}\")\n",
        "print(f'Categorical Cols : {len(categorical_cols)}')"
      ],
      "execution_count": 17,
      "outputs": [
        {
          "output_type": "stream",
          "text": [
            "Numeric Cols : 9\n",
            "Categorical Cols : 4\n"
          ],
          "name": "stdout"
        }
      ]
    },
    {
      "cell_type": "code",
      "metadata": {
        "id": "fScld1rivmhk",
        "colab_type": "code",
        "outputId": "879422ad-dfaf-4428-9a0e-925ab3ae161f",
        "colab": {
          "base_uri": "https://localhost:8080/",
          "height": 455,
          "referenced_widgets": [
            "23331ff47aac436b96859ec3b04c9ce0",
            "3aed4e5eccef4172913aa6325529962c",
            "5baf6f59c64841da89e26f9da7e7e11a",
            "77d8689e0ce04545a9b534902e25681e",
            "41f2cba23f834910b7f357b18b60fc80",
            "dee4c033cef645af920c823468d8f213",
            "f56a877794624fb3a0d1c01e38bebeb6"
          ]
        }
      },
      "source": [
        "def visualize_distributions(column):\n",
        "\n",
        "    plt.figure(figsize = (6,6))\n",
        "    sns.distplot(data_df[column] , kde = True,color = 'b')\n",
        "    plt.axvline(np.median(data_df[column]),color='magenta', linestyle='--')\n",
        "    plt.grid(True)\n",
        "    plt.title(f\"Distribution of {column} Column\" , fontsize = 15)\n",
        "    \n",
        "    plt.show()\n",
        "\n",
        "interact(visualize_distributions , column= numeric_cols)\n"
      ],
      "execution_count": 18,
      "outputs": [
        {
          "output_type": "display_data",
          "data": {
            "application/vnd.jupyter.widget-view+json": {
              "model_id": "23331ff47aac436b96859ec3b04c9ce0",
              "version_minor": 0,
              "version_major": 2
            },
            "text/plain": [
              "interactive(children=(Dropdown(description='column', options=('Price', 'Rating', 'Review_Count', 'Flavor_Ratin…"
            ]
          },
          "metadata": {
            "tags": []
          }
        },
        {
          "output_type": "execute_result",
          "data": {
            "text/plain": [
              "<function __main__.visualize_distributions>"
            ]
          },
          "metadata": {
            "tags": []
          },
          "execution_count": 18
        }
      ]
    },
    {
      "cell_type": "markdown",
      "metadata": {
        "id": "393-1ZRn9DJW",
        "colab_type": "text"
      },
      "source": [
        "* So if you look at the distributions most of the distributions are left or right skewed though the price distribution is almost normal.\n",
        "* The reason for extreme skewness of the data could be due to the variability  in number of products.\n",
        "* If you look at the plot of Flavor_Rating columns we observe that most of the flavors are rated a average rating of around 9.0 "
      ]
    },
    {
      "cell_type": "code",
      "metadata": {
        "id": "zV1wOH0c0Ql5",
        "colab_type": "code",
        "outputId": "0a5c15c8-90dd-4138-8b6d-db8129c57570",
        "colab": {
          "base_uri": "https://localhost:8080/",
          "height": 604,
          "referenced_widgets": [
            "cb0169ac806b4a6199a61df39425c554",
            "6e71edeb86034807b74a32dd18e17a31",
            "0570585b62294e3590dfb209af9511f2",
            "f983922ac7994e608ddd4a4c8ef95eb1",
            "0403b3e1a753462bae269c10aa268cbd",
            "6b57cd4f62134c36a8ecb7eee56305c9",
            "5aeff008e44f432c889e0c2fbdb33ec6",
            "79014c06f6814537b60a66fa4688effd",
            "0944676084864e74b642d8563ce27ac0",
            "e5ad9c8e9ab3452a98426a88f2dfef01"
          ]
        }
      },
      "source": [
        "#themes = ['darkgrid', 'whitegrid', 'dark', 'white']\n",
        "\n",
        "def Interact_ScatterPlot(x,y):\n",
        "    plt.figure(figsize = (8,8))\n",
        "    sns.scatterplot(x = x,y=y , data = data_df, palette = sns.color_palette(\"husl\",2),\n",
        "                    alpha = 0.8 ,hue = 'product_type')\n",
        "    \n",
        "    plt.title(f'{x} Vs {y}' , fontsize = 20)\n",
        "    plt.xlabel(x , fontsize = 15)\n",
        "    plt.ylabel(y , fontsize = 15)\n",
        "    plt.grid(True)\n",
        "    plt.show()\n",
        "    \n",
        "interact(Interact_ScatterPlot , x = numeric_cols ,y = numeric_cols)"
      ],
      "execution_count": 19,
      "outputs": [
        {
          "output_type": "display_data",
          "data": {
            "application/vnd.jupyter.widget-view+json": {
              "model_id": "cb0169ac806b4a6199a61df39425c554",
              "version_minor": 0,
              "version_major": 2
            },
            "text/plain": [
              "interactive(children=(Dropdown(description='x', options=('Price', 'Rating', 'Review_Count', 'Flavor_Rating', '…"
            ]
          },
          "metadata": {
            "tags": []
          }
        },
        {
          "output_type": "execute_result",
          "data": {
            "text/plain": [
              "<function __main__.Interact_ScatterPlot>"
            ]
          },
          "metadata": {
            "tags": []
          },
          "execution_count": 19
        }
      ]
    },
    {
      "cell_type": "markdown",
      "metadata": {
        "id": "ltAz5738MICF",
        "colab_type": "text"
      },
      "source": [
        "### Some observations from the Joint Plot\n",
        "\n",
        "* In Rating vs Price most values are concentrated between rating of 9-10 and value of price below 40$.\n",
        "\n",
        "* In the plot for flavor_rating vs Price most data points are concetrated between flavor rating of 9-10 with prices between 20-40$.\n",
        "\n",
        "* For size vs Price, most products have size between 0-5Lbs, though if you see there are very few products that charge above 100$.\n",
        "\n",
        "*\n"
      ]
    },
    {
      "cell_type": "code",
      "metadata": {
        "id": "8Ut97UwUMuKi",
        "colab_type": "code",
        "outputId": "a9bb49f5-0f10-40ee-de96-1f24c015fde8",
        "colab": {
          "base_uri": "https://localhost:8080/",
          "height": 460,
          "referenced_widgets": [
            "3c75a0343a3c442098b8a200ecf4f0b4",
            "cfaf63f4c4564955a63c5d1f2a9df578",
            "9c7207e7e9f946229659845b62e14e65",
            "ff0e964f37964b24a317716a2b346b44",
            "c847a718dd95476ebf68dd1f34c7edd6",
            "26df7312dd3841109de12aa84efd1cd8",
            "c1c310ed54474598b2310cce6a626ed6"
          ]
        }
      },
      "source": [
        "def Visualize_ViolinPlots(y):\n",
        "    fig,ax = plt.subplots(figsize = (6,6))\n",
        "    sns.violinplot(x = 'product_type' , y = y ,data = data_df , ax = ax , palette = [\"#2ecc71\" , 'magenta'])\n",
        "    plt.title(\"Product Type \"  + f'Vs {y}' , fontsize = 18)\n",
        "    plt.show()\n",
        "\n",
        "interact(Visualize_ViolinPlots , y = numeric_cols)"
      ],
      "execution_count": 20,
      "outputs": [
        {
          "output_type": "display_data",
          "data": {
            "application/vnd.jupyter.widget-view+json": {
              "model_id": "3c75a0343a3c442098b8a200ecf4f0b4",
              "version_minor": 0,
              "version_major": 2
            },
            "text/plain": [
              "interactive(children=(Dropdown(description='y', options=('Price', 'Rating', 'Review_Count', 'Flavor_Rating', '…"
            ]
          },
          "metadata": {
            "tags": []
          }
        },
        {
          "output_type": "execute_result",
          "data": {
            "text/plain": [
              "<function __main__.Visualize_ViolinPlots>"
            ]
          },
          "metadata": {
            "tags": []
          },
          "execution_count": 20
        }
      ]
    },
    {
      "cell_type": "markdown",
      "metadata": {
        "id": "YWnI8L_nVoqJ",
        "colab_type": "text"
      },
      "source": [
        "* So the ***wider sections*** in violin plots show which members of the population have ***higher probability of occuring***.\n",
        "\n",
        "* Consider the plot \"Product_type vs Price\", for **protein** products there's a ***higher chance of products have a price range of 25-50$*** and similar is the case for workout_booster products."
      ]
    },
    {
      "cell_type": "code",
      "metadata": {
        "id": "PPtXTI7mgIJR",
        "colab_type": "code",
        "outputId": "59abeb27-d8d0-45fa-effd-42abe9e2d069",
        "colab": {
          "base_uri": "https://localhost:8080/",
          "height": 105
        }
      },
      "source": [
        "#Let's explore categorical data\n",
        "data_df[categorical_cols].nunique()"
      ],
      "execution_count": 21,
      "outputs": [
        {
          "output_type": "execute_result",
          "data": {
            "text/plain": [
              "Product         352\n",
              "Brand            77\n",
              "Flavor          216\n",
              "product_type      2\n",
              "dtype: int64"
            ]
          },
          "metadata": {
            "tags": []
          },
          "execution_count": 21
        }
      ]
    },
    {
      "cell_type": "markdown",
      "metadata": {
        "id": "043__mZPYaR4",
        "colab_type": "text"
      },
      "source": [
        "* As you can see from above there are varied number of unique products ,brands,flavours."
      ]
    },
    {
      "cell_type": "code",
      "metadata": {
        "id": "9T1xnczNX82H",
        "colab_type": "code",
        "outputId": "81717032-99c9-4725-cb71-f2ba591dde3b",
        "colab": {
          "base_uri": "https://localhost:8080/",
          "height": 466,
          "referenced_widgets": [
            "45c37396d2834282a6eec14ce74cf613",
            "ac3b7f4186c4419c82457da1e7cec9b0",
            "930d46c0fbdc47399b9743f8b78f2164",
            "f247a1824cc3423584776ce37b7a54cf",
            "195080b7ed1a4c8a87bcb19d5d57aa33",
            "64ff745c82e74d37a4b360c97afab7f8",
            "430d212459084268ac63a26dad3914c0",
            "5b633e40e4c046618e7677a6f95d751a",
            "9dbb385cba574b6aa75098b7029d61b3",
            "6cff8db902114e9e83293ea42c4658f1"
          ]
        }
      },
      "source": [
        "#Let's analyze the brand and flavour columns using the product type column\n",
        "\n",
        "type = ['protein' , 'workout_booster']\n",
        "y = ['Brand' , 'Flavor']\n",
        "def Create_PieChart(Column, type):\n",
        "    fig ,ax = plt.subplots(figsize = (6,6))\n",
        "\n",
        "    labels = data_df[data_df['product_type'] == type][Column].value_counts()[:10].index\n",
        "    values = data_df[data_df['product_type'] == type][Column].value_counts()[:10].values\n",
        "    colors = cm.tab20(np.arange(10)/10.0)\n",
        "    ax.pie(values ,labels = labels, autopct='%1.1f%%',\n",
        "        shadow=True, startangle=90, colors =colors )\n",
        "    plt.title(\"Top 10 \" + f'{Column}' ,fontsize = 20 , color = 'blue')\n",
        "    ax.axis('equal')\n",
        "    plt.show()\n",
        "\n",
        "interact(Create_PieChart,Column=y ,type = type)\n"
      ],
      "execution_count": 22,
      "outputs": [
        {
          "output_type": "display_data",
          "data": {
            "application/vnd.jupyter.widget-view+json": {
              "model_id": "45c37396d2834282a6eec14ce74cf613",
              "version_minor": 0,
              "version_major": 2
            },
            "text/plain": [
              "interactive(children=(Dropdown(description='Column', options=('Brand', 'Flavor'), value='Brand'), Dropdown(des…"
            ]
          },
          "metadata": {
            "tags": []
          }
        },
        {
          "output_type": "execute_result",
          "data": {
            "text/plain": [
              "<function __main__.Create_PieChart>"
            ]
          },
          "metadata": {
            "tags": []
          },
          "execution_count": 22
        }
      ]
    },
    {
      "cell_type": "markdown",
      "metadata": {
        "id": "kqKI6WJ1rB1a",
        "colab_type": "text"
      },
      "source": [
        "* The company ***Optimum Nutrition*** dominates the **Protein category** and ***Evolution Nutrition*** dominates the **workout booster** category.\n",
        "\n",
        "* ***Choclate*** flavor is the most selected flavor for*** protein supplements*** and apprently people like to take ***unflavored workout boosters***.\n",
        "\n",
        "\n",
        "\n"
      ]
    },
    {
      "cell_type": "code",
      "metadata": {
        "id": "V_lT5jyjZEW0",
        "colab_type": "code",
        "outputId": "cdc450c1-d655-402a-f87e-674f833391a9",
        "colab": {
          "base_uri": "https://localhost:8080/",
          "height": 457,
          "referenced_widgets": [
            "8412727b833948f989431a76a540d225",
            "a193da02d1144ac3afed0b674189e1aa",
            "be8c5b9778f946c69dada672902b4de7",
            "bf64e60b5f2c4c51974569bb56a77bb1",
            "02c87dea990e4d4686659cc7b44138dd",
            "3ac19b4c4ecb4a628b3ec29ffd2b5939",
            "b0eda22740484c499a2ff1707a4be4eb"
          ]
        }
      },
      "source": [
        "def Visualize_BarPlots(Columns):\n",
        "    plt.figure(figsize = (15,15))\n",
        "    sns.catplot(x = 'product_type' , y = Columns , data = data_df, kind = 'bar' ,palette = [\"#2ecc71\" , 'magenta'])\n",
        "    plt.title('Bar Plot' , color = 'blue' , fontsize = 20)\n",
        "    plt.show()\n",
        "\n",
        "interact(Visualize_BarPlots , Columns = numeric_cols)"
      ],
      "execution_count": 23,
      "outputs": [
        {
          "output_type": "display_data",
          "data": {
            "application/vnd.jupyter.widget-view+json": {
              "model_id": "8412727b833948f989431a76a540d225",
              "version_minor": 0,
              "version_major": 2
            },
            "text/plain": [
              "interactive(children=(Dropdown(description='Columns', options=('Price', 'Rating', 'Review_Count', 'Flavor_Rati…"
            ]
          },
          "metadata": {
            "tags": []
          }
        },
        {
          "output_type": "execute_result",
          "data": {
            "text/plain": [
              "<function __main__.Visualize_BarPlots>"
            ]
          },
          "metadata": {
            "tags": []
          },
          "execution_count": 23
        }
      ]
    },
    {
      "cell_type": "code",
      "metadata": {
        "id": "HX2yYzBBZxSk",
        "colab_type": "code",
        "outputId": "bdd61a9f-8a62-4726-9d79-31f272aed7e6",
        "colab": {
          "base_uri": "https://localhost:8080/",
          "height": 962
        }
      },
      "source": [
        "#Let's create a correlation matrix for numerica variables\n",
        "plt.figure(figsize = (15,15))\n",
        "sns.heatmap(data_df[numeric_cols].corr() , annot = True , cmap = 'PuBu')"
      ],
      "execution_count": 24,
      "outputs": [
        {
          "output_type": "execute_result",
          "data": {
            "text/plain": [
              "<matplotlib.axes._subplots.AxesSubplot at 0x7f9369480390>"
            ]
          },
          "metadata": {
            "tags": []
          },
          "execution_count": 24
        },
        {
          "output_type": "display_data",
          "data": {
            "image/png": "[encoded data removed]",
            "text/plain": [
              "<Figure size 1080x1080 with 2 Axes>"
            ]
          },
          "metadata": {
            "tags": [],
            "needs_background": "light"
          }
        }
      ]
    },
    {
      "cell_type": "markdown",
      "metadata": {
        "id": "3WFl9F0vOiA5",
        "colab_type": "text"
      },
      "source": [
        "* The above heatmap shows nice correlations between our numeric columns you can certainly some ***correlation between size and price of the products.***\n",
        "\n",
        "\n",
        "\n"
      ]
    },
    {
      "cell_type": "markdown",
      "metadata": {
        "id": "iVrS5xJPQUpD",
        "colab_type": "text"
      },
      "source": [
        "## Creating Machine Learning Models\n",
        "\n",
        "\n",
        "* Now that we have basic understanding of the data let's work on using machine learning to predict the prices of the products.\n",
        "\n",
        "*   We'll use three machine learning algorithms which will be ***random forests***, ***XGBOOST*** and ***AdaBoost***.\n",
        "*   The metrics we will use are ***RMSE***,***MAE***  and ***R2-score***\n",
        "*   Finally after training the model we will use shapely values to understand what features affected the predictions,"
      ]
    },
    {
      "cell_type": "code",
      "metadata": {
        "id": "ypKzN3XmOhHc",
        "colab_type": "code",
        "colab": {}
      },
      "source": [
        "#Importing the required libraries\n",
        "from sklearn.tree import DecisionTreeRegressor\n",
        "from sklearn.ensemble import RandomForestRegressor , AdaBoostRegressor\n",
        "from sklearn.preprocessing import LabelEncoder\n",
        "from sklearn.model_selection import KFold\n",
        "from sklearn import metrics\n",
        "import math\n",
        "import xgboost as xgb"
      ],
      "execution_count": 0,
      "outputs": []
    },
    {
      "cell_type": "code",
      "metadata": {
        "id": "0SEcm2vJSYHI",
        "colab_type": "code",
        "colab": {}
      },
      "source": [
        "#Using label encoder to encode the data\n",
        "for col in categorical_cols:\n",
        "    lbl = LabelEncoder()\n",
        "    data_df[col] = lbl.fit_transform(data_df[col])\n"
      ],
      "execution_count": 0,
      "outputs": []
    },
    {
      "cell_type": "code",
      "metadata": {
        "id": "9axUW0hEQ1yH",
        "colab_type": "code",
        "colab": {}
      },
      "source": [
        "#We will be dropping Product name from the data as there are so many unique values\n",
        "data_df = data_df.drop('Product' , axis = 1)"
      ],
      "execution_count": 0,
      "outputs": []
    },
    {
      "cell_type": "code",
      "metadata": {
        "id": "7R-V9suTQS-8",
        "colab_type": "code",
        "colab": {}
      },
      "source": [
        "y = data_df['Price'].values\n",
        "X = data_df.drop('Price' , axis = 1).values\n"
      ],
      "execution_count": 0,
      "outputs": []
    },
    {
      "cell_type": "code",
      "metadata": {
        "id": "NXaB57UzVLxR",
        "colab_type": "code",
        "outputId": "8b34fe9b-fbb6-4e8e-a596-6a253294ae54",
        "colab": {
          "base_uri": "https://localhost:8080/",
          "height": 197
        }
      },
      "source": [
        "data_df.head()"
      ],
      "execution_count": 29,
      "outputs": [
        {
          "output_type": "execute_result",
          "data": {
            "text/html": [
              "<div>\n",
              "<style scoped>\n",
              "    .dataframe tbody tr th:only-of-type {\n",
              "        vertical-align: middle;\n",
              "    }\n",
              "\n",
              "    .dataframe tbody tr th {\n",
              "        vertical-align: top;\n",
              "    }\n",
              "\n",
              "    .dataframe thead th {\n",
              "        text-align: right;\n",
              "    }\n",
              "</style>\n",
              "<table border=\"1\" class=\"dataframe\">\n",
              "  <thead>\n",
              "    <tr style=\"text-align: right;\">\n",
              "      <th></th>\n",
              "      <th>Brand</th>\n",
              "      <th>Price</th>\n",
              "      <th>Rating</th>\n",
              "      <th>Review_Count</th>\n",
              "      <th>Flavor_Rating</th>\n",
              "      <th>Flavor</th>\n",
              "      <th>Size</th>\n",
              "      <th>Servings</th>\n",
              "      <th>Scoop_Size</th>\n",
              "      <th>Available_Sizes</th>\n",
              "      <th>Available_Flavors</th>\n",
              "      <th>product_type</th>\n",
              "    </tr>\n",
              "  </thead>\n",
              "  <tbody>\n",
              "    <tr>\n",
              "      <th>0</th>\n",
              "      <td>50</td>\n",
              "      <td>47.99</td>\n",
              "      <td>9.3</td>\n",
              "      <td>10029</td>\n",
              "      <td>9.1</td>\n",
              "      <td>80</td>\n",
              "      <td>5.008897</td>\n",
              "      <td>71.0</td>\n",
              "      <td>32.0</td>\n",
              "      <td>5.0</td>\n",
              "      <td>18.0</td>\n",
              "      <td>0</td>\n",
              "    </tr>\n",
              "    <tr>\n",
              "      <th>1</th>\n",
              "      <td>30</td>\n",
              "      <td>46.98</td>\n",
              "      <td>9.2</td>\n",
              "      <td>2727</td>\n",
              "      <td>9.0</td>\n",
              "      <td>38</td>\n",
              "      <td>3.968316</td>\n",
              "      <td>45.0</td>\n",
              "      <td>40.0</td>\n",
              "      <td>4.0</td>\n",
              "      <td>7.0</td>\n",
              "      <td>0</td>\n",
              "    </tr>\n",
              "    <tr>\n",
              "      <th>2</th>\n",
              "      <td>14</td>\n",
              "      <td>37.49</td>\n",
              "      <td>8.8</td>\n",
              "      <td>668</td>\n",
              "      <td>8.9</td>\n",
              "      <td>141</td>\n",
              "      <td>4.947167</td>\n",
              "      <td>66.0</td>\n",
              "      <td>34.0</td>\n",
              "      <td>2.0</td>\n",
              "      <td>5.0</td>\n",
              "      <td>0</td>\n",
              "    </tr>\n",
              "    <tr>\n",
              "      <th>3</th>\n",
              "      <td>50</td>\n",
              "      <td>22.49</td>\n",
              "      <td>9.3</td>\n",
              "      <td>10029</td>\n",
              "      <td>9.1</td>\n",
              "      <td>80</td>\n",
              "      <td>1.975340</td>\n",
              "      <td>28.0</td>\n",
              "      <td>32.0</td>\n",
              "      <td>5.0</td>\n",
              "      <td>19.0</td>\n",
              "      <td>0</td>\n",
              "    </tr>\n",
              "    <tr>\n",
              "      <th>4</th>\n",
              "      <td>7</td>\n",
              "      <td>36.74</td>\n",
              "      <td>9.2</td>\n",
              "      <td>3966</td>\n",
              "      <td>9.4</td>\n",
              "      <td>48</td>\n",
              "      <td>4.973623</td>\n",
              "      <td>48.0</td>\n",
              "      <td>47.0</td>\n",
              "      <td>5.0</td>\n",
              "      <td>7.0</td>\n",
              "      <td>0</td>\n",
              "    </tr>\n",
              "  </tbody>\n",
              "</table>\n",
              "</div>"
            ],
            "text/plain": [
              "   Brand  Price  Rating  Review_Count  Flavor_Rating  Flavor      Size  \\\n",
              "0     50  47.99     9.3         10029            9.1      80  5.008897   \n",
              "1     30  46.98     9.2          2727            9.0      38  3.968316   \n",
              "2     14  37.49     8.8           668            8.9     141  4.947167   \n",
              "3     50  22.49     9.3         10029            9.1      80  1.975340   \n",
              "4      7  36.74     9.2          3966            9.4      48  4.973623   \n",
              "\n",
              "   Servings  Scoop_Size  Available_Sizes  Available_Flavors  product_type  \n",
              "0      71.0        32.0              5.0               18.0             0  \n",
              "1      45.0        40.0              4.0                7.0             0  \n",
              "2      66.0        34.0              2.0                5.0             0  \n",
              "3      28.0        32.0              5.0               19.0             0  \n",
              "4      48.0        47.0              5.0                7.0             0  "
            ]
          },
          "metadata": {
            "tags": []
          },
          "execution_count": 29
        }
      ]
    },
    {
      "cell_type": "markdown",
      "metadata": {
        "id": "O3W_KgaLRsQ5",
        "colab_type": "text"
      },
      "source": [
        "* Since we have less amount of data only 500 rows we will be using Kfold cross validation to prevent overfitting"
      ]
    },
    {
      "cell_type": "code",
      "metadata": {
        "id": "zX_jEPmrKuxx",
        "colab_type": "code",
        "colab": {}
      },
      "source": [
        "def CreateModels(model_name):\n",
        "\n",
        "    if model_name =='rf':\n",
        "        return RandomForestRegressor(n_estimators = 200,\n",
        "                                     max_depth = 6,\n",
        "                                     random_state = 42)\n",
        "    elif model_name == 'xgb':\n",
        "        return xgb.XGBRegressor(n_estimators = 150 , max_depth = 6 , eta = 0.03,\n",
        "                                objective ='reg:squarederror', alpha = 2)\n",
        "    else:\n",
        "        return AdaBoostRegressor(base_estimator = RandomForestRegressor(max_depth = 3),\n",
        "                                 n_estimators = 100,\n",
        "                                 random_state = 42)\n",
        "    "
      ],
      "execution_count": 0,
      "outputs": []
    },
    {
      "cell_type": "code",
      "metadata": {
        "id": "mRft2H9JRrj-",
        "colab_type": "code",
        "outputId": "bc33d813-20e2-4626-9383-5c6bf6be32c9",
        "colab": {
          "base_uri": "https://localhost:8080/",
          "height": 131,
          "referenced_widgets": [
            "8516892465184594a173735a3b0f91aa",
            "1899dadb534544d58a301d75f30592da",
            "96ae1fbbfe664b1f80cdbd27a41cfdf3",
            "0fbe1a4f3c7d42879920fb8a2d16496d",
            "ab066df263594141b3bb73586b20c1bd",
            "26efd9f6857d47d482f139b625291131",
            "16f2b67335154f71bd9e96b25844952f",
            "efd09a8b136d4decb12192a410f427ed",
            "7c2c52626ad1463dbe13a59d60f4fd39",
            "2096980a7c9143269b2865cf60159fb2",
            "49738ae40db04a9ab10a31fa5948131d",
            "f4a9623ec77340009e1011673dafee19",
            "3e7e6cd09c3c42b9b98643eed3be02b6"
          ]
        }
      },
      "source": [
        "import ipywidgets\n",
        "def TrainOnFolds(model_name,folds):\n",
        "\n",
        "    #y_preds = []\n",
        "    #y_true = []\n",
        "    rmse, mae_val , r2 = [],[],[]\n",
        "\n",
        "    model = CreateModels(model_name)\n",
        "    kf = KFold(n_splits = folds , random_state = 42 , shuffle = True)\n",
        "    print(\"Training Models...\")\n",
        "    for i , (train_idx,test_idx) in enumerate(kf.split(X)):\n",
        "\n",
        "        X_train ,y_train = X[train_idx] , y[train_idx]\n",
        "        X_test , y_test = X[test_idx] , y[test_idx]\n",
        "\n",
        "        #y_true.append(y_test)\n",
        "        model.fit(X_train , y_train)\n",
        "        pred = model.predict(X_test)\n",
        "\n",
        "        #y_preds.append(pred)\n",
        "        mse = metrics.mean_squared_error(y_test , pred)\n",
        "        mae = metrics.mean_absolute_error(y_test , pred)\n",
        "        r2_score = metrics.r2_score(y_test , pred)\n",
        "\n",
        "        rmse.append(math.sqrt(mse))\n",
        "        mae_val.append(mae)\n",
        "        r2.append(r2_score)\n",
        "\n",
        "        print(f\"Fold : {i+1} || RMSE :{math.sqrt(mse)} || MAE : {mae} || R2-Score : {r2_score}\")\n",
        "    print(f\"Mean RMSE : {np.mean(rmse)} || Mean MAE : {np.mean(mae_val)} || Mean R2-Score : {np.mean(r2)}\")\n",
        "    \n",
        "ipywidgets.interact_manual.opts['manual_name'] = 'Train Models'\n",
        "interact_manual(TrainOnFolds, model_name = ['rf' , 'xgb' , 'ada'] , folds = (2,10))\n"
      ],
      "execution_count": 31,
      "outputs": [
        {
          "output_type": "display_data",
          "data": {
            "application/vnd.jupyter.widget-view+json": {
              "model_id": "8516892465184594a173735a3b0f91aa",
              "version_minor": 0,
              "version_major": 2
            },
            "text/plain": [
              "interactive(children=(Dropdown(description='model_name', options=('rf', 'xgb', 'ada'), value='rf'), IntSlider(…"
            ]
          },
          "metadata": {
            "tags": []
          }
        },
        {
          "output_type": "execute_result",
          "data": {
            "text/plain": [
              "<function __main__.TrainOnFolds>"
            ]
          },
          "metadata": {
            "tags": []
          },
          "execution_count": 31
        }
      ]
    },
    {
      "cell_type": "markdown",
      "metadata": {
        "id": "FOLq2avzauk2",
        "colab_type": "text"
      },
      "source": [
        "* You can use the above interactive method to train the models, You can see the models perform poorly. Here are the possible reasons,\n",
        "\n",
        "    *   Lack of data\n",
        "    *   Need Fine tuning for parameters\n",
        "\n",
        "* Feel free to train other models and experiment with it and let me know.\n"
      ]
    },
    {
      "cell_type": "markdown",
      "metadata": {
        "id": "5n4qYrEVbfmU",
        "colab_type": "text"
      },
      "source": [
        "* Let's start using machine learning interpretability for understanding the model, I'm gonna choose RandomForest for my analysis."
      ]
    },
    {
      "cell_type": "code",
      "metadata": {
        "id": "7vJBqWpAexZL",
        "colab_type": "code",
        "colab": {}
      },
      "source": [
        "!pip install eli5\n",
        "!pip install shap"
      ],
      "execution_count": 0,
      "outputs": []
    },
    {
      "cell_type": "code",
      "metadata": {
        "id": "4EwUpPbaN0EE",
        "colab_type": "code",
        "colab": {
          "base_uri": "https://localhost:8080/",
          "height": 141
        },
        "outputId": "9805734f-7a01-412c-a007-d90207544091"
      },
      "source": [
        "from sklearn.model_selection import train_test_split\n",
        "from eli5.sklearn import PermutationImportance\n",
        "import shap\n",
        "import eli5\n",
        "y_shap = data_df[\"Price\"]\n",
        "X_shap = data_df.drop('Price' , axis = 1)\n",
        "X_train , X_test ,  y_train, y_test = train_test_split(X_shap,y_shap,test_size = 0.2, random_state = 42)\n",
        "\n",
        "\n",
        "model = RandomForestRegressor(n_estimators = 200,\n",
        "                               max_depth = 6,\n",
        "                               random_state = 42)\n",
        "model.fit(X_train.values , y_train.values)"
      ],
      "execution_count": 41,
      "outputs": [
        {
          "output_type": "execute_result",
          "data": {
            "text/plain": [
              "RandomForestRegressor(bootstrap=True, ccp_alpha=0.0, criterion='mse',\n",
              "                      max_depth=6, max_features='auto', max_leaf_nodes=None,\n",
              "                      max_samples=None, min_impurity_decrease=0.0,\n",
              "                      min_impurity_split=None, min_samples_leaf=1,\n",
              "                      min_samples_split=2, min_weight_fraction_leaf=0.0,\n",
              "                      n_estimators=200, n_jobs=None, oob_score=False,\n",
              "                      random_state=42, verbose=0, warm_start=False)"
            ]
          },
          "metadata": {
            "tags": []
          },
          "execution_count": 41
        }
      ]
    },
    {
      "cell_type": "code",
      "metadata": {
        "id": "MmTWANA3Pub9",
        "colab_type": "code",
        "outputId": "47417517-adbe-43bf-ded7-c37c396a9f9d",
        "colab": {
          "base_uri": "https://localhost:8080/",
          "height": 216
        }
      },
      "source": [
        "perm = PermutationImportance(model, random_state=1).fit(X_test.values, y_test.values)\n",
        "eli5.show_weights(perm, feature_names = data_df.drop('Price' , axis = 1).columns.to_list())\n"
      ],
      "execution_count": 42,
      "outputs": [
        {
          "output_type": "execute_result",
          "data": {
            "text/html": [
              "\n",
              "    <style>\n",
              "    table.eli5-weights tr:hover {\n",
              "        filter: brightness(85%);\n",
              "    }\n",
              "</style>\n",
              "\n",
              "\n",
              "\n",
              "    \n",
              "\n",
              "    \n",
              "\n",
              "    \n",
              "\n",
              "    \n",
              "\n",
              "    \n",
              "\n",
              "    \n",
              "\n",
              "\n",
              "    \n",
              "\n",
              "    \n",
              "\n",
              "    \n",
              "\n",
              "    \n",
              "\n",
              "    \n",
              "\n",
              "    \n",
              "\n",
              "\n",
              "    \n",
              "\n",
              "    \n",
              "\n",
              "    \n",
              "\n",
              "    \n",
              "\n",
              "    \n",
              "        <table class=\"eli5-weights eli5-feature-importances\" style=\"border-collapse: collapse; border: none; margin-top: 0em; table-layout: auto;\">\n",
              "    <thead>\n",
              "    <tr style=\"border: none;\">\n",
              "        <th style=\"padding: 0 1em 0 0.5em; text-align: right; border: none;\">Weight</th>\n",
              "        <th style=\"padding: 0 0.5em 0 0.5em; text-align: left; border: none;\">Feature</th>\n",
              "    </tr>\n",
              "    </thead>\n",
              "    <tbody>\n",
              "    \n",
              "        <tr style=\"background-color: hsl(120, 100.00%, 80.00%); border: none;\">\n",
              "            <td style=\"padding: 0 1em 0 0.5em; text-align: right; border: none;\">\n",
              "                0.9332\n",
              "                \n",
              "                    &plusmn; 0.2967\n",
              "                \n",
              "            </td>\n",
              "            <td style=\"padding: 0 0.5em 0 0.5em; text-align: left; border: none;\">\n",
              "                Size\n",
              "            </td>\n",
              "        </tr>\n",
              "    \n",
              "        <tr style=\"background-color: hsl(120, 100.00%, 93.39%); border: none;\">\n",
              "            <td style=\"padding: 0 1em 0 0.5em; text-align: right; border: none;\">\n",
              "                0.1919\n",
              "                \n",
              "                    &plusmn; 0.1140\n",
              "                \n",
              "            </td>\n",
              "            <td style=\"padding: 0 0.5em 0 0.5em; text-align: left; border: none;\">\n",
              "                Servings\n",
              "            </td>\n",
              "        </tr>\n",
              "    \n",
              "        <tr style=\"background-color: hsl(120, 100.00%, 96.20%); border: none;\">\n",
              "            <td style=\"padding: 0 1em 0 0.5em; text-align: right; border: none;\">\n",
              "                0.0869\n",
              "                \n",
              "                    &plusmn; 0.2447\n",
              "                \n",
              "            </td>\n",
              "            <td style=\"padding: 0 0.5em 0 0.5em; text-align: left; border: none;\">\n",
              "                Available_Sizes\n",
              "            </td>\n",
              "        </tr>\n",
              "    \n",
              "        <tr style=\"background-color: hsl(120, 100.00%, 97.95%); border: none;\">\n",
              "            <td style=\"padding: 0 1em 0 0.5em; text-align: right; border: none;\">\n",
              "                0.0360\n",
              "                \n",
              "                    &plusmn; 0.0718\n",
              "                \n",
              "            </td>\n",
              "            <td style=\"padding: 0 0.5em 0 0.5em; text-align: left; border: none;\">\n",
              "                Brand\n",
              "            </td>\n",
              "        </tr>\n",
              "    \n",
              "        <tr style=\"background-color: hsl(120, 100.00%, 98.45%); border: none;\">\n",
              "            <td style=\"padding: 0 1em 0 0.5em; text-align: right; border: none;\">\n",
              "                0.0242\n",
              "                \n",
              "                    &plusmn; 0.0536\n",
              "                \n",
              "            </td>\n",
              "            <td style=\"padding: 0 0.5em 0 0.5em; text-align: left; border: none;\">\n",
              "                Available_Flavors\n",
              "            </td>\n",
              "        </tr>\n",
              "    \n",
              "        <tr style=\"background-color: hsl(120, 100.00%, 98.85%); border: none;\">\n",
              "            <td style=\"padding: 0 1em 0 0.5em; text-align: right; border: none;\">\n",
              "                0.0157\n",
              "                \n",
              "                    &plusmn; 0.0107\n",
              "                \n",
              "            </td>\n",
              "            <td style=\"padding: 0 0.5em 0 0.5em; text-align: left; border: none;\">\n",
              "                Review_Count\n",
              "            </td>\n",
              "        </tr>\n",
              "    \n",
              "        <tr style=\"background-color: hsl(120, 100.00%, 99.57%); border: none;\">\n",
              "            <td style=\"padding: 0 1em 0 0.5em; text-align: right; border: none;\">\n",
              "                0.0039\n",
              "                \n",
              "                    &plusmn; 0.0162\n",
              "                \n",
              "            </td>\n",
              "            <td style=\"padding: 0 0.5em 0 0.5em; text-align: left; border: none;\">\n",
              "                Scoop_Size\n",
              "            </td>\n",
              "        </tr>\n",
              "    \n",
              "        <tr style=\"background-color: hsl(0, 100.00%, 99.66%); border: none;\">\n",
              "            <td style=\"padding: 0 1em 0 0.5em; text-align: right; border: none;\">\n",
              "                -0.0028\n",
              "                \n",
              "                    &plusmn; 0.0227\n",
              "                \n",
              "            </td>\n",
              "            <td style=\"padding: 0 0.5em 0 0.5em; text-align: left; border: none;\">\n",
              "                Flavor\n",
              "            </td>\n",
              "        </tr>\n",
              "    \n",
              "        <tr style=\"background-color: hsl(0, 100.00%, 99.48%); border: none;\">\n",
              "            <td style=\"padding: 0 1em 0 0.5em; text-align: right; border: none;\">\n",
              "                -0.0051\n",
              "                \n",
              "                    &plusmn; 0.0026\n",
              "                \n",
              "            </td>\n",
              "            <td style=\"padding: 0 0.5em 0 0.5em; text-align: left; border: none;\">\n",
              "                product_type\n",
              "            </td>\n",
              "        </tr>\n",
              "    \n",
              "        <tr style=\"background-color: hsl(0, 100.00%, 98.60%); border: none;\">\n",
              "            <td style=\"padding: 0 1em 0 0.5em; text-align: right; border: none;\">\n",
              "                -0.0209\n",
              "                \n",
              "                    &plusmn; 0.0234\n",
              "                \n",
              "            </td>\n",
              "            <td style=\"padding: 0 0.5em 0 0.5em; text-align: left; border: none;\">\n",
              "                Flavor_Rating\n",
              "            </td>\n",
              "        </tr>\n",
              "    \n",
              "        <tr style=\"background-color: hsl(0, 100.00%, 98.46%); border: none;\">\n",
              "            <td style=\"padding: 0 1em 0 0.5em; text-align: right; border: none;\">\n",
              "                -0.0239\n",
              "                \n",
              "                    &plusmn; 0.0198\n",
              "                \n",
              "            </td>\n",
              "            <td style=\"padding: 0 0.5em 0 0.5em; text-align: left; border: none;\">\n",
              "                Rating\n",
              "            </td>\n",
              "        </tr>\n",
              "    \n",
              "    \n",
              "    </tbody>\n",
              "</table>\n",
              "    \n",
              "\n",
              "    \n",
              "\n",
              "\n",
              "    \n",
              "\n",
              "    \n",
              "\n",
              "    \n",
              "\n",
              "    \n",
              "\n",
              "    \n",
              "\n",
              "    \n",
              "\n",
              "\n",
              "\n"
            ],
            "text/plain": [
              "<IPython.core.display.HTML object>"
            ]
          },
          "metadata": {
            "tags": []
          },
          "execution_count": 42
        }
      ]
    },
    {
      "cell_type": "markdown",
      "metadata": {
        "id": "4ejHnYGXfw_B",
        "colab_type": "text"
      },
      "source": [
        "## Interpretation\n",
        "* The values towards the top are the most important features, and those towards the bottom matter least.\n",
        "\n",
        "* The first number in each row shows how much model performance decreased with a random shuffling\n",
        "\n",
        "* The number after the ± measures how performance varied from one-reshuffling to the next.You'll occasionally see negative values for permutation importances. In those cases, the predictions on the shuffled (or noisy) data happened to be more accurate than the real data. This happens when the feature didn't matter (should have had an importance close to 0), but random chance caused the predictions on shuffled data to be more accurate."
      ]
    },
    {
      "cell_type": "code",
      "metadata": {
        "id": "ClU2owWefZ0l",
        "colab_type": "code",
        "outputId": "ade9da84-5a89-4f9f-84e4-dee0dcb60b04",
        "colab": {
          "base_uri": "https://localhost:8080/",
          "height": 407
        }
      },
      "source": [
        "# Create object that can calculate shap values\n",
        "model.fit(X_train,y_train)\n",
        "explainer = shap.TreeExplainer(model)\n",
        "\n",
        "# calculate shap values. This is what we will plot.\n",
        "\n",
        "shap_values = explainer.shap_values(X_test)\n",
        "\n",
        "#Summary Plot\n",
        "shap.summary_plot(shap_values , X_test)"
      ],
      "execution_count": 43,
      "outputs": [
        {
          "output_type": "stream",
          "text": [
            "Setting feature_perturbation = \"tree_path_dependent\" because no background data was given.\n"
          ],
          "name": "stderr"
        },
        {
          "output_type": "display_data",
          "data": {
            "image/png": "[encoded data removed]",
            "text/plain": [
              "<Figure size 576x424.8 with 2 Axes>"
            ]
          },
          "metadata": {
            "tags": [],
            "needs_background": "light"
          }
        }
      ]
    },
    {
      "cell_type": "markdown",
      "metadata": {
        "id": "rRFd2UwKiJds",
        "colab_type": "text"
      },
      "source": [
        "* SHAP summary plots give us a birds-eye view of feature importance and what is driving it.\n",
        "* The plot has many dots, they have the following charateristics\n",
        "    * Vertical location shows what feature it is depicting\n",
        "    * Color shows whether that feature was high or low for that row of the dataset.\n",
        "    * Horizontal location shows whether the effect of that value caused a higher or lower prediction.\n",
        "\n",
        "* Some Insights\n",
        "    * The high values of size result  in predicition for models and the same is applicable for servings feature.\n",
        "    * The review count feature didn't contributed at all."
      ]
    },
    {
      "cell_type": "code",
      "metadata": {
        "id": "4sCxKpVZgak8",
        "colab_type": "code",
        "outputId": "acbc567c-ec1b-448d-9581-cd58b5220738",
        "colab": {
          "base_uri": "https://localhost:8080/",
          "height": 418,
          "referenced_widgets": [
            "772de2df87df4726818a623deb8963a4",
            "0ca6291953e94482851a02fe5afceb76",
            "9b7c8f3ea13345b180c5b289f10f3d7c",
            "69569c46ec494ec0aecf32fc58a2d298",
            "7076eb51277c49d89ac987f7ce42a452",
            "9813c89c206745e2b976899cdc8955e4",
            "32c62d01fe4c409a81235f55a9b49b76",
            "e61c4cd16d494b8b9f3ca3cc2713eb0c",
            "88e302adebef43ba873e8dc36ac0960f",
            "59a9a9a5709a4d30a8a73e4c34a78454"
          ]
        }
      },
      "source": [
        "def make_DependencePlot(columns , interact_index):\n",
        "    shap_values_pdp = explainer.shap_values(X_shap)\n",
        "    shap.dependence_plot(columns, shap_values_pdp, X_shap, interaction_index= interact_index)\n",
        "\n",
        "cols = X_shap.columns.to_list()\n",
        "interact(make_DependencePlot ,columns = cols , interact_index = cols)"
      ],
      "execution_count": 45,
      "outputs": [
        {
          "output_type": "display_data",
          "data": {
            "application/vnd.jupyter.widget-view+json": {
              "model_id": "772de2df87df4726818a623deb8963a4",
              "version_minor": 0,
              "version_major": 2
            },
            "text/plain": [
              "interactive(children=(Dropdown(description='columns', options=('Brand', 'Rating', 'Review_Count', 'Flavor_Rati…"
            ]
          },
          "metadata": {
            "tags": []
          }
        },
        {
          "output_type": "execute_result",
          "data": {
            "text/plain": [
              "<function __main__.make_DependencePlot>"
            ]
          },
          "metadata": {
            "tags": []
          },
          "execution_count": 45
        }
      ]
    },
    {
      "cell_type": "markdown",
      "metadata": {
        "id": "hr31_u8wlOAI",
        "colab_type": "text"
      },
      "source": [
        "* Each dot represents a row of the data. The horizontal location is the actual value from the dataset, and the vertical location shows what having that value did to the prediction.\n",
        "* The fact that the slope is downward slope for the Rating vs size, says that more ratings are given to the product with less which implies that the product cost is going to be low."
      ]
    },
    {
      "cell_type": "markdown",
      "metadata": {
        "id": "-0h-LOC0loqn",
        "colab_type": "text"
      },
      "source": [
        "## ***Conclusion and Future Scope***\n",
        "\n",
        "* From the above analysis it is clear that size , Servings are the most important factor which affect the price of the product.\n",
        "* We also found that Available flavors and review count do not affect the predicitons of the model as much.\n",
        "\n",
        "* **Here are the models R2-Score for the 5-folds**\n",
        "\n",
        "    * ***Random Forest : 0.378***\n",
        "    * ***XGBoost : 0.438***\n",
        "    * ***AdaBoost : 0.37***\n",
        "* For future scope, you can collect more data regarding the products  like their contents etc.\n",
        "* You can also try to increase the amount of data using sampling methods like SMOTE.\n",
        "* Try using hyperparameter tuning to find the most optimal hyperparameters."
      ]
    }
  ]
}